{
 "cells": [
  {
   "cell_type": "markdown",
   "source": [
    "Consiga exactamente esta visualización utilizando los datos:\n",
    "<br />\n",
    "<img src=\"img.png\" width=\"375\" height=\"250\" />"
   ],
   "metadata": {
    "collapsed": false,
    "pycharm": {
     "name": "#%% md\n"
    }
   }
  },
  {
   "cell_type": "code",
   "execution_count": 30,
   "outputs": [],
   "source": [
    "dataset_path = './dataset'\n",
    "business_data = pd.read_csv(dataset_path + '/business.csv')\n",
    "business_attributes = business_data[\"attributes\"]\n",
    "att = business_attributes[0]\n",
    "business_attributes = business_attributes.apply(lambda attribute: json.dumps(attribute))"
   ],
   "metadata": {
    "collapsed": false,
    "pycharm": {
     "name": "#%%\n"
    }
   }
  },
  {
   "cell_type": "code",
   "execution_count": 31,
   "outputs": [],
   "source": [
    "business_attributes = business_data[\"attributes\"]\n",
    "att = business_attributes[1]\n",
    "business_attributes = business_attributes.apply(lambda attribute: json.dumps(attribute))\n",
    "group = att\n",
    "\n",
    "\n",
    "def adhoc_json_cleaning(x):\n",
    "  if not x: return None\n",
    "  if x != x: return None\n",
    "  if isinstance(x, float): return None\n",
    "  att = x\n",
    "  att_cl = re.sub(\"\\\\\\\"[^{\\']*\\\\\\\"\", lambda x: x.group(0).replace('\\\\\\'', ''), att)\n",
    "  att_cl = re.sub(r'(?<=\\\")([^\\{,][^\\\\\", ]+)', \"repl\", att_cl)\n",
    "  att_cl = re.sub(r'(?=u\\')([^:])([^\\{,][^\\\\\",:]+)', \"\\\"repl\\\"\", att_cl)\n",
    "  att_cl = att_cl.replace(\"\\\\\\\"\", \"\\\"\")\n",
    "  att_cl = att_cl.replace(\"\\\\\\'\", \"\\\"\")\n",
    "  att_cl = att_cl.replace(\"\\'\", \"\\\"\")\n",
    "  att_cl = att_cl.replace(\"\\\"{\", \"{\")\n",
    "  att_cl = att_cl.replace(\"}\\\"\", \"}\")\n",
    "  att_cl = att_cl.replace(\"None\", \"\\\"None\\\"\")\n",
    "  att_cl = att_cl.replace(\"False\", \"\\\"False\\\"\")\n",
    "  att_cl = att_cl.replace(\"\\\"\\\"False\\\"\\\"\", \"\\\"False\\\"\")\n",
    "  att_cl = att_cl.replace(\"True\", \"\\\"True\\\"\")\n",
    "  att_cl = att_cl.replace(\"\\\"\\\"True\\\"\\\"\", \"\\\"True\\\"\")\n",
    "  att_cl = att_cl.replace(\"\\\"\\\"None\\\"\\\"\", \"\\\"None\\\"\")\n",
    "  json_att = json.loads(att_cl)\n",
    "  if isinstance(json_att, float): return None\n",
    "  return json_att.get('RestaurantsPriceRange2')\n",
    "\n",
    "\n",
    "y = business_attributes.map(lambda att: adhoc_json_cleaning(att))\n",
    "y.dropna(inplace=True)\n",
    "y = y[y != 'None']"
   ],
   "metadata": {
    "collapsed": false,
    "pycharm": {
     "name": "#%%\n"
    }
   }
  },
  {
   "cell_type": "code",
   "execution_count": 32,
   "outputs": [
    {
     "data": {
      "text/plain": "<BarContainer object of 4 artists>"
     },
     "execution_count": 32,
     "metadata": {},
     "output_type": "execute_result"
    },
    {
     "data": {
      "text/plain": "<Figure size 432x288 with 1 Axes>",
      "image/png": "[encoded data removed]"
     },
     "metadata": {
      "needs_background": "light"
     },
     "output_type": "display_data"
    }
   ],
   "source": [
    "colors = [\"#7f5d34\", \"#ae824c\", \"#c7a25f\", \"#e1c677\"]\n",
    "x_labels = ['\\$', '\\$\\$', '\\$\\$\\$', '\\$\\$\\$\\$']\n",
    "\n",
    "labels, counts = np.unique(y, return_counts=True)\n",
    "\n",
    "fig, ax = plt.subplots()\n",
    "ax.set_ylabel('Cantidad')\n",
    "ax.set_xlabel('Rango de precios')\n",
    "ax.set_title('Distribución de lugares por rango de precios')\n",
    "ax.set_adjustable(\"datalim\")\n",
    "\n",
    "plt.bar(x_labels, counts, color=colors)"
   ],
   "metadata": {
    "collapsed": false,
    "pycharm": {
     "name": "#%%\n"
    }
   }
  },
  {
   "cell_type": "code",
   "execution_count": 32,
   "outputs": [],
   "source": [],
   "metadata": {
    "collapsed": false,
    "pycharm": {
     "name": "#%%\n"
    }
   }
  }
 ],
 "metadata": {
  "kernelspec": {
   "display_name": "Python 3",
   "language": "python",
   "name": "python3"
  },
  "language_info": {
   "codemirror_mode": {
    "name": "ipython",
    "version": 2
   },
   "file_extension": ".py",
   "mimetype": "text/x-python",
   "name": "python",
   "nbconvert_exporter": "python",
   "pygments_lexer": "ipython2",
   "version": "2.7.6"
  }
 },
 "nbformat": 4,
 "nbformat_minor": 0
}