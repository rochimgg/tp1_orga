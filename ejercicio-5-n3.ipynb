{
 "cells": [
  {
   "cell_type": "markdown",
   "source": [
    "# La 3-upla de palabras (no letras) más común en los comentarios de los tips. De ser necesario, se puede utilizar un sample y no la totalidad de datos."
   ],
   "metadata": {
    "collapsed": false,
    "pycharm": {
     "name": "#%% md\n"
    }
   }
  },
  {
   "cell_type": "code",
   "execution_count": null,
   "outputs": [],
   "source": [
    "import pandas as pd\n",
    "import numpy as np\n",
    "import seaborn as sns\n",
    "import matplotlib.pyplot as plt\n",
    "%matplotlib inline"
   ],
   "metadata": {
    "collapsed": false,
    "pycharm": {
     "name": "#%%\n",
     "is_executing": true
    }
   }
  },
  {
   "cell_type": "code",
   "execution_count": null,
   "outputs": [],
   "source": [
    "tip_data = pd.read_csv('r'./dataset/business.csv')\n",
    "tip_comments = tip_data[\"text\"]\n",
    "tip_comments.dropna(inplace=True)\n",
    "tip_comments\n",
    "\n",
    "  l = pd.DataFrame(' '.join(list(map(clean, d))).split()) # limpio y cargo en lista\n",
    "  count = l.value_counts()\n",
    "  df = pd.DataFrame() # ocurrencias de una palabra\n",
    "  count.columns = ['oc']\n",
    "  #df = df[df.oc > r] #si aparecen mas de r veces, asumo que son recurrentes\n",
    "  #li = \" \".join(list(df))\n",
    "  print(count)\n",
    "  tup = (df.index.array).map(lambda r: list(it.combinations(r, n)), axis=0) # combinacion de n-uplas"
   ],
   "metadata": {
    "collapsed": false,
    "pycharm": {
     "name": "#%%\n"
    }
   }
  },
  {
   "cell_type": "code",
   "execution_count": null,
   "outputs": [],
   "source": [],
   "metadata": {
    "collapsed": false,
    "pycharm": {
     "name": "#%%\n"
    }
   }
  }
 ],
 "metadata": {
  "kernelspec": {
   "display_name": "Python 3",
   "language": "python",
   "name": "python3"
  },
  "language_info": {
   "codemirror_mode": {
    "name": "ipython",
    "version": 2
   },
   "file_extension": ".py",
   "mimetype": "text/x-python",
   "name": "python",
   "nbconvert_exporter": "python",
   "pygments_lexer": "ipython2",
   "version": "2.7.6"
  }
 },
 "nbformat": 4,
 "nbformat_minor": 0
}