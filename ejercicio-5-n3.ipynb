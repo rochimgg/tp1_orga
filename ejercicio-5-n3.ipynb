{
 "cells": [
  {
   "cell_type": "markdown",
   "source": [
    "# La 3-upla de palabras (no letras) más común en los comentarios de los tips. De ser necesario, se puede utilizar un sample y no la totalidad de datos."
   ],
   "metadata": {
    "collapsed": false,
    "pycharm": {
     "name": "#%% md\n"
    }
   }
  },
  {
   "cell_type": "code",
   "execution_count": 9,
   "outputs": [],
   "source": [
    "import pandas as pd\n",
    "import numpy as np"
   ],
   "metadata": {
    "collapsed": false,
    "pycharm": {
     "name": "#%%\n"
    }
   }
  },
  {
   "cell_type": "code",
   "execution_count": 11,
   "outputs": [
    {
     "data": {
      "text/plain": "0                            Avengers time with the ladies.\n1         They have lots of good deserts and tasty cuban...\n2                    It's open even when you think it isn't\n3                                 Very decent fried chicken\n4                    Appetizers.. platter special for lunch\n                                ...                        \n908910                Disappointed in one of your managers.\n908911                              Great food and service.\n908912                                  Love their Cubans!!\n908913                              Great pizza great price\n908914                    Food is good value but a bit hot!\nName: text, Length: 908910, dtype: object"
     },
     "execution_count": 11,
     "metadata": {},
     "output_type": "execute_result"
    }
   ],
   "source": [
    "dataset_path = './dataset'\n",
    "tip_data = pd.read_csv(dataset_path + '/tip.csv')\n",
    "tip_comments = tip_data[\"text\"]\n",
    "tip_comments.dropna(inplace=True)\n",
    "tip_comments"
   ],
   "metadata": {
    "collapsed": false,
    "pycharm": {
     "name": "#%%\n"
    }
   }
  },
  {
   "cell_type": "code",
   "execution_count": 12,
   "outputs": [
    {
     "name": "stdout",
     "output_type": "stream",
     "text": [
      "                                                     REGS\n",
      "0                          avengers time with the ladies \n",
      "1       they have lots of good deserts and tasty cuban...\n",
      "2                  it s open even when you think it isn t\n",
      "3                               very decent fried chicken\n",
      "4                    appetizers platter special for lunch\n",
      "...                                                   ...\n",
      "908905              disappointed in one of your managers \n",
      "908906                            great food and service \n",
      "908907                                 love their cubans \n",
      "908908                            great pizza great price\n",
      "908909                  food is good value but a bit hot \n",
      "\n",
      "[908910 rows x 1 columns]\n"
     ]
    }
   ],
   "source": [
    "def clean(r):\n",
    "  att_cl = r\n",
    "  att_cl = re.sub(r'[^a-zA-Z]+', ' ', att_cl)  # palabras solo compuestas por letras en unico casing\n",
    "  return att_cl.lower()\n",
    "\n",
    "\n",
    "clean(\"Este es el ejercicio nro. 5 (cinco) del TP!\")\n",
    "l = pd.DataFrame(' '.join(list(map(clean, tip_comments))).split())  # limpio y cargo en lista\n",
    "count = l.value_counts()\n",
    "df = pd.DataFrame()\n",
    "\n",
    "regs = pd.DataFrame(list(map(clean, tip_comments)))\n",
    "regs.columns = ['REGS']\n",
    "print(regs)"
   ],
   "metadata": {
    "collapsed": false,
    "pycharm": {
     "name": "#%%\n"
    }
   }
  },
  {
   "cell_type": "code",
   "execution_count": 13,
   "outputs": [
    {
     "name": "stdout",
     "output_type": "stream",
     "text": [
      "the           437545\n",
      "and           315926\n",
      "a             212561\n",
      "is            176630\n",
      "to            173177\n",
      "               ...  \n",
      "burgerhaus         1\n",
      "recieves           1\n",
      "caerbannog         1\n",
      "pointy             1\n",
      "narwahl            1\n",
      "Name: words, Length: 91611, dtype: int64\n",
      "['the', 'and', 'a', 'is', 'to', 'great', 'for', 'i', 'food', 'in', 'it', 'good', 'of', 'you', 'service', 'was', 'place', 'they', 'this', 'on', 's', 'are', 'with', 'best', 't', 'my', 'not', 'here', 'but', 'very', 'have', 'love', 'at', 'get', 'so', 'be']\n"
     ]
    },
    {
     "data": {
      "text/plain": "           apri\nthe,and,a    12\nthe,a,in     11\nthe,is,in    11",
      "text/html": "<div>\n<style scoped>\n    .dataframe tbody tr th:only-of-type {\n        vertical-align: middle;\n    }\n\n    .dataframe tbody tr th {\n        vertical-align: top;\n    }\n\n    .dataframe thead th {\n        text-align: right;\n    }\n</style>\n<table border=\"1\" class=\"dataframe\">\n  <thead>\n    <tr style=\"text-align: right;\">\n      <th></th>\n      <th>apri</th>\n    </tr>\n  </thead>\n  <tbody>\n    <tr>\n      <th>the,and,a</th>\n      <td>12</td>\n    </tr>\n    <tr>\n      <th>the,a,in</th>\n      <td>11</td>\n    </tr>\n    <tr>\n      <th>the,is,in</th>\n      <td>11</td>\n    </tr>\n  </tbody>\n</table>\n</div>"
     },
     "execution_count": 13,
     "metadata": {},
     "output_type": "execute_result"
    }
   ],
   "source": [
    "import itertools as it\n",
    "import re\n",
    "import timeit\n",
    "\n",
    "s1 = \"they have lots of good deserts and tasty the a\"\n",
    "regs1 = ['avengers time with the and a', 'it s open even when you think it isn t the and a']\n",
    "\n",
    "\n",
    "def apri(d, n, r, e=250):\n",
    "  l = map(lambda x: ' '.join(x), regs.to_numpy())\n",
    "  df = pd.DataFrame(\" \".join(list(l)).split())\n",
    "  df.columns = ['words']\n",
    "  ocur = df['words'].value_counts()  # ocurrencias de una palabra\n",
    "  print(ocur)\n",
    "  recur_1 = ocur[ocur > r]  #si aparecen mas de r veces, asumo que son recurrentes\n",
    "  recur_words = recur_1.index.tolist()  #array de palabras recurrentes\n",
    "  print(recur_1.index.tolist())\n",
    "\n",
    "  recur_trip = list(it.combinations(recur_words, n))\n",
    "\n",
    "  di = {}\n",
    "\n",
    "  for s in regs[:e].REGS:\n",
    "    for a in recur_trip:\n",
    "      sa = \",\".join(a)\n",
    "      if sa not in di: di[sa] = 0\n",
    "      reg0 = re.compile(r\"(?is)^(?=.*\\b(\" + a[0].strip() + r\")\\b)\")\n",
    "      reg1 = re.compile(r\"(?is)^(?=.*\\b(\" + a[1].strip() + r\")\\b)\")\n",
    "      reg2 = re.compile(r\"(?is)^(?=.*\\b(\" + a[2].strip() + r\")\\b)\")\n",
    "      if reg0.search(s) and reg1.search(s) and reg2.search(s):\n",
    "        di[sa] += 1\n",
    "  df = pd.DataFrame.from_dict(di, orient='index')\n",
    "  df.columns = ['apri']\n",
    "  return df.sort_values(by=['apri'], ascending=False)[:3]\n",
    "\n",
    "\n",
    "apri(tip_comments, 3, 40000)"
   ],
   "metadata": {
    "collapsed": false,
    "pycharm": {
     "name": "#%%\n"
    }
   }
  },
  {
   "cell_type": "markdown",
   "source": [],
   "metadata": {
    "collapsed": false,
    "pycharm": {
     "name": "#%% md\n"
    }
   }
  }
 ],
 "metadata": {
  "kernelspec": {
   "display_name": "Python 3",
   "language": "python",
   "name": "python3"
  },
  "language_info": {
   "codemirror_mode": {
    "name": "ipython",
    "version": 2
   },
   "file_extension": ".py",
   "mimetype": "text/x-python",
   "name": "python",
   "nbconvert_exporter": "python",
   "pygments_lexer": "ipython2",
   "version": "2.7.6"
  }
 },
 "nbformat": 4,
 "nbformat_minor": 0
}