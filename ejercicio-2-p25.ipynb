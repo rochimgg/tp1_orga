{
 "cells": [
  {
   "cell_type": "markdown",
   "source": [
    "## Yelp quiere reconocer qué usuarios están progresando en el sitio de manera excepcional respecto a la mayoría para darles una medallita. El problema es que todos los usuarios tienen distintas edades en el sitio y eso dificulta medir progreso. Calcule la velocidad con que cada usuario consiguió fans e hizo reviews en el sitio. ¿Cuántos usuarios superan ambas velocidades promedio?"
   ],
   "metadata": {
    "collapsed": false,
    "pycharm": {
     "name": "#%% md\n"
    }
   }
  },
  {
   "cell_type": "code",
   "execution_count": null,
   "outputs": [],
   "source": [
    "import pandas as pd\n",
    "from datetime import datetime\n",
    "\n",
    "dataset_path = './dataset'\n",
    "user_data = pd.read_csv(dataset_path + '/user.csv')\n",
    "user_data"
   ],
   "metadata": {
    "collapsed": false,
    "pycharm": {
     "name": "#%%\n",
     "is_executing": true
    }
   }
  },
  {
   "cell_type": "code",
   "execution_count": null,
   "outputs": [],
   "source": [
    "user_data['user_id'].value_counts()\n",
    "\n",
    "df = pd.DataFrame()\n",
    "df['user_id'] = user_data['user_id']\n",
    "df['review_count'] = user_data['review_count']\n",
    "df['fans'] = user_data['fans']\n",
    "df['hours_yelping'] = user_data['yelping_since'].map(\n",
    "    lambda d: (datetime.now() - datetime.fromisoformat(d)).total_seconds() / 3600)\n"
   ],
   "metadata": {
    "collapsed": false,
    "pycharm": {
     "name": "#%%\n",
     "is_executing": true
    }
   }
  },
  {
   "cell_type": "markdown",
   "source": [
    "Corrijo orden para que la review_count y los fans sean comparables con las horas desde primer inicio"
   ],
   "metadata": {
    "collapsed": false,
    "pycharm": {
     "name": "#%% md\n"
    }
   }
  },
  {
   "cell_type": "code",
   "execution_count": null,
   "outputs": [],
   "source": [
    "df['review_speed'] = user_data['review_count'] * 10e5 / df['hours_yelping']\n",
    "df['fans_speed'] = user_data['fans'] * 10e5 / df['hours_yelping']\n",
    "df"
   ],
   "metadata": {
    "collapsed": false,
    "pycharm": {
     "name": "#%%\n",
     "is_executing": true
    }
   }
  },
  {
   "cell_type": "code",
   "execution_count": null,
   "outputs": [],
   "source": [
    "v_prom_rev = df['review_speed'].mean()\n",
    "v_prom_fans = df['fans_speed'].mean()\n",
    "\n",
    "print(v_prom_rev)\n",
    "print(v_prom_fans)"
   ],
   "metadata": {
    "collapsed": false,
    "pycharm": {
     "name": "#%%\n",
     "is_executing": true
    }
   }
  },
  {
   "cell_type": "markdown",
   "source": [
    "Cantidad de usuarios merecientes de medallita"
   ],
   "metadata": {
    "collapsed": false,
    "pycharm": {
     "name": "#%% md\n"
    }
   }
  },
  {
   "cell_type": "code",
   "execution_count": null,
   "outputs": [],
   "source": [
    "df = df[df['fans_speed'] > v_prom_fans]  # por sobre el promedio de velocidad de fans\n",
    "df = df[df['review_speed'] > v_prom_rev]  # por sobre el promedio de velocidad de reviews\n",
    "df['user_id'].count()"
   ],
   "metadata": {
    "collapsed": false,
    "pycharm": {
     "name": "#%%\n",
     "is_executing": true
    }
   }
  }
 ],
 "metadata": {
  "kernelspec": {
   "display_name": "Python 3",
   "language": "python",
   "name": "python3"
  },
  "language_info": {
   "codemirror_mode": {
    "name": "ipython",
    "version": 2
   },
   "file_extension": ".py",
   "mimetype": "text/x-python",
   "name": "python",
   "nbconvert_exporter": "python",
   "pygments_lexer": "ipython2",
   "version": "2.7.6"
  }
 },
 "nbformat": 4,
 "nbformat_minor": 0
}