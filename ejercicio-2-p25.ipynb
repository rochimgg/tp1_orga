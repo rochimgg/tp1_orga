{
 "cells": [
  {
   "cell_type": "markdown",
   "source": [
    "## Yelp quiere reconocer qué usuarios están progresando en el sitio de manera excepcional respecto a la mayoría para darles una medallita. El problema es que todos los usuarios tienen distintas edades en el sitio y eso dificulta medir progreso. Calcule la velocidad con que cada usuario consiguió fans e hizo reviews en el sitio. ¿Cuántos usuarios superan ambas velocidades promedio?"
   ],
   "metadata": {
    "collapsed": false,
    "pycharm": {
     "name": "#%% md\n"
    }
   }
  },
  {
   "cell_type": "code",
   "execution_count": 61,
   "outputs": [
    {
     "data": {
      "text/plain": "                        user_id     name  review_count        yelping_since  \\\n0        qVc8ODYU5SZjKXVBgXdI7w   Walker           5.0  2007-01-25 16:47:26   \n1        j14WgRoU_-2ZE1aw1dXrJg   Daniel          64.0  2009-01-25 04:35:42   \n2        2WnXYQFK0hXEoTxPtV2zvg    Steph           0.0  2008-07-25 10:41:00   \n3        SZDeASXq7o05mMNLshsdIA     Gwen           0.0  2005-11-29 04:38:33   \n4        hA5lMy-EnncsH4JoR-hFGQ    Karen           7.0  2007-01-05 19:40:59   \n...                         ...      ...           ...                  ...   \n1987892  fB3jbHi3m0L2KgGOxBv6uw  Jerrold           1.0  2015-01-06 00:31:31   \n1987893  68czcr4BxJyMQ9cJBm6C7Q     Jane           1.0  2016-06-14 07:20:52   \n1987894  1x3KMskYxOuJCjRz70xOqQ  Shomari           1.0  2017-02-04 15:31:58   \n1987895  ulfGl4tdbrH05xKzh5lnog  Susanne           1.0  2011-01-14 00:29:08   \n1987896  wL5jPrLRVCK_Pmo4lM1zpA      Isa           1.0  2020-12-19 02:32:39   \n\n         useful  funny   cool  \\\n0          7217   1259   5994   \n1         43091  13066  27281   \n2          2086   1010   1003   \n3           512    330    299   \n4            29     15      7   \n...         ...    ...    ...   \n1987892       7      0      0   \n1987893       0      0      0   \n1987894       1      1      0   \n1987895       0      0      0   \n1987896       0      0      0   \n\n                                                     elite  \\\n0                                                     2007   \n1        2009,2010,2011,2012,2013,2014,2015,2016,2017,2...   \n2                                 2009,2010,2011,2012,2013   \n3                                           2009,2010,2011   \n4                                                      NaN   \n...                                                    ...   \n1987892                                                NaN   \n1987893                                                NaN   \n1987894                                                NaN   \n1987895                                                NaN   \n1987896                                                NaN   \n\n                                                   friends  fans  ...  \\\n0        NSCy54eWehBJyZdG2iE84w, pe42u7DcCH2QmI81NX-8qA...   267  ...   \n1        ueRPE0CX75ePGMqOFVj6IQ, 52oH4DrRvzzl8wh5UXyU0A...  3138  ...   \n2        LuO3Bn4f3rlhyHIaNfTlnA, j9B4XdHUhDfTKVecyWQgyA...    52  ...   \n3        enx1vVPnfdNUdPho6PH_wg, 4wOcvMLtU6a9Lslggq74Vg...    28  ...   \n4        PBK4q9KEEBHhFvSXCUirIw, 3FWPpM7KU1gXeOM_ZbYMbA...     1  ...   \n...                                                    ...   ...  ...   \n1987892                                               None     0  ...   \n1987893                                               None     0  ...   \n1987894                                               None     0  ...   \n1987895                                               None     0  ...   \n1987896                                               None     0  ...   \n\n         compliment_more  compliment_profile  compliment_cute  \\\n0                     65                  55               56   \n1                    264                 184              157   \n2                     13                  10               17   \n3                      4                   1                6   \n4                      1                   0                0   \n...                  ...                 ...              ...   \n1987892                0                   0                0   \n1987893                0                   0                0   \n1987894                0                   0                0   \n1987895                0                   0                0   \n1987896                0                   0                0   \n\n         compliment_list  compliment_note  compliment_plain  compliment_cool  \\\n0                     18              232               844              467   \n1                    251             1847              7054             3131   \n2                      3               66                96              119   \n3                      2               12                16               26   \n4                      0                1                 1                0   \n...                  ...              ...               ...              ...   \n1987892                0                0                 0                0   \n1987893                0                0                 0                0   \n1987894                0                0                 0                0   \n1987895                0                0                 0                0   \n1987896                0                0                 0                0   \n\n         compliment_funny  compliment_writer  compliment_photos  \n0                     467                239                180  \n1                    3131               1521               1946  \n2                     119                 35                 18  \n3                      26                 10                  9  \n4                       0                  0                  0  \n...                   ...                ...                ...  \n1987892                 0                  0                  0  \n1987893                 0                  0                  0  \n1987894                 0                  0                  0  \n1987895                 0                  0                  0  \n1987896                 0                  0                  0  \n\n[1987897 rows x 22 columns]",
      "text/html": "<div>\n<style scoped>\n    .dataframe tbody tr th:only-of-type {\n        vertical-align: middle;\n    }\n\n    .dataframe tbody tr th {\n        vertical-align: top;\n    }\n\n    .dataframe thead th {\n        text-align: right;\n    }\n</style>\n<table border=\"1\" class=\"dataframe\">\n  <thead>\n    <tr style=\"text-align: right;\">\n      <th></th>\n      <th>user_id</th>\n      <th>name</th>\n      <th>review_count</th>\n      <th>yelping_since</th>\n      <th>useful</th>\n      <th>funny</th>\n      <th>cool</th>\n      <th>elite</th>\n      <th>friends</th>\n      <th>fans</th>\n      <th>...</th>\n      <th>compliment_more</th>\n      <th>compliment_profile</th>\n      <th>compliment_cute</th>\n      <th>compliment_list</th>\n      <th>compliment_note</th>\n      <th>compliment_plain</th>\n      <th>compliment_cool</th>\n      <th>compliment_funny</th>\n      <th>compliment_writer</th>\n      <th>compliment_photos</th>\n    </tr>\n  </thead>\n  <tbody>\n    <tr>\n      <th>0</th>\n      <td>qVc8ODYU5SZjKXVBgXdI7w</td>\n      <td>Walker</td>\n      <td>5.0</td>\n      <td>2007-01-25 16:47:26</td>\n      <td>7217</td>\n      <td>1259</td>\n      <td>5994</td>\n      <td>2007</td>\n      <td>NSCy54eWehBJyZdG2iE84w, pe42u7DcCH2QmI81NX-8qA...</td>\n      <td>267</td>\n      <td>...</td>\n      <td>65</td>\n      <td>55</td>\n      <td>56</td>\n      <td>18</td>\n      <td>232</td>\n      <td>844</td>\n      <td>467</td>\n      <td>467</td>\n      <td>239</td>\n      <td>180</td>\n    </tr>\n    <tr>\n      <th>1</th>\n      <td>j14WgRoU_-2ZE1aw1dXrJg</td>\n      <td>Daniel</td>\n      <td>64.0</td>\n      <td>2009-01-25 04:35:42</td>\n      <td>43091</td>\n      <td>13066</td>\n      <td>27281</td>\n      <td>2009,2010,2011,2012,2013,2014,2015,2016,2017,2...</td>\n      <td>ueRPE0CX75ePGMqOFVj6IQ, 52oH4DrRvzzl8wh5UXyU0A...</td>\n      <td>3138</td>\n      <td>...</td>\n      <td>264</td>\n      <td>184</td>\n      <td>157</td>\n      <td>251</td>\n      <td>1847</td>\n      <td>7054</td>\n      <td>3131</td>\n      <td>3131</td>\n      <td>1521</td>\n      <td>1946</td>\n    </tr>\n    <tr>\n      <th>2</th>\n      <td>2WnXYQFK0hXEoTxPtV2zvg</td>\n      <td>Steph</td>\n      <td>0.0</td>\n      <td>2008-07-25 10:41:00</td>\n      <td>2086</td>\n      <td>1010</td>\n      <td>1003</td>\n      <td>2009,2010,2011,2012,2013</td>\n      <td>LuO3Bn4f3rlhyHIaNfTlnA, j9B4XdHUhDfTKVecyWQgyA...</td>\n      <td>52</td>\n      <td>...</td>\n      <td>13</td>\n      <td>10</td>\n      <td>17</td>\n      <td>3</td>\n      <td>66</td>\n      <td>96</td>\n      <td>119</td>\n      <td>119</td>\n      <td>35</td>\n      <td>18</td>\n    </tr>\n    <tr>\n      <th>3</th>\n      <td>SZDeASXq7o05mMNLshsdIA</td>\n      <td>Gwen</td>\n      <td>0.0</td>\n      <td>2005-11-29 04:38:33</td>\n      <td>512</td>\n      <td>330</td>\n      <td>299</td>\n      <td>2009,2010,2011</td>\n      <td>enx1vVPnfdNUdPho6PH_wg, 4wOcvMLtU6a9Lslggq74Vg...</td>\n      <td>28</td>\n      <td>...</td>\n      <td>4</td>\n      <td>1</td>\n      <td>6</td>\n      <td>2</td>\n      <td>12</td>\n      <td>16</td>\n      <td>26</td>\n      <td>26</td>\n      <td>10</td>\n      <td>9</td>\n    </tr>\n    <tr>\n      <th>4</th>\n      <td>hA5lMy-EnncsH4JoR-hFGQ</td>\n      <td>Karen</td>\n      <td>7.0</td>\n      <td>2007-01-05 19:40:59</td>\n      <td>29</td>\n      <td>15</td>\n      <td>7</td>\n      <td>NaN</td>\n      <td>PBK4q9KEEBHhFvSXCUirIw, 3FWPpM7KU1gXeOM_ZbYMbA...</td>\n      <td>1</td>\n      <td>...</td>\n      <td>1</td>\n      <td>0</td>\n      <td>0</td>\n      <td>0</td>\n      <td>1</td>\n      <td>1</td>\n      <td>0</td>\n      <td>0</td>\n      <td>0</td>\n      <td>0</td>\n    </tr>\n    <tr>\n      <th>...</th>\n      <td>...</td>\n      <td>...</td>\n      <td>...</td>\n      <td>...</td>\n      <td>...</td>\n      <td>...</td>\n      <td>...</td>\n      <td>...</td>\n      <td>...</td>\n      <td>...</td>\n      <td>...</td>\n      <td>...</td>\n      <td>...</td>\n      <td>...</td>\n      <td>...</td>\n      <td>...</td>\n      <td>...</td>\n      <td>...</td>\n      <td>...</td>\n      <td>...</td>\n      <td>...</td>\n    </tr>\n    <tr>\n      <th>1987892</th>\n      <td>fB3jbHi3m0L2KgGOxBv6uw</td>\n      <td>Jerrold</td>\n      <td>1.0</td>\n      <td>2015-01-06 00:31:31</td>\n      <td>7</td>\n      <td>0</td>\n      <td>0</td>\n      <td>NaN</td>\n      <td>None</td>\n      <td>0</td>\n      <td>...</td>\n      <td>0</td>\n      <td>0</td>\n      <td>0</td>\n      <td>0</td>\n      <td>0</td>\n      <td>0</td>\n      <td>0</td>\n      <td>0</td>\n      <td>0</td>\n      <td>0</td>\n    </tr>\n    <tr>\n      <th>1987893</th>\n      <td>68czcr4BxJyMQ9cJBm6C7Q</td>\n      <td>Jane</td>\n      <td>1.0</td>\n      <td>2016-06-14 07:20:52</td>\n      <td>0</td>\n      <td>0</td>\n      <td>0</td>\n      <td>NaN</td>\n      <td>None</td>\n      <td>0</td>\n      <td>...</td>\n      <td>0</td>\n      <td>0</td>\n      <td>0</td>\n      <td>0</td>\n      <td>0</td>\n      <td>0</td>\n      <td>0</td>\n      <td>0</td>\n      <td>0</td>\n      <td>0</td>\n    </tr>\n    <tr>\n      <th>1987894</th>\n      <td>1x3KMskYxOuJCjRz70xOqQ</td>\n      <td>Shomari</td>\n      <td>1.0</td>\n      <td>2017-02-04 15:31:58</td>\n      <td>1</td>\n      <td>1</td>\n      <td>0</td>\n      <td>NaN</td>\n      <td>None</td>\n      <td>0</td>\n      <td>...</td>\n      <td>0</td>\n      <td>0</td>\n      <td>0</td>\n      <td>0</td>\n      <td>0</td>\n      <td>0</td>\n      <td>0</td>\n      <td>0</td>\n      <td>0</td>\n      <td>0</td>\n    </tr>\n    <tr>\n      <th>1987895</th>\n      <td>ulfGl4tdbrH05xKzh5lnog</td>\n      <td>Susanne</td>\n      <td>1.0</td>\n      <td>2011-01-14 00:29:08</td>\n      <td>0</td>\n      <td>0</td>\n      <td>0</td>\n      <td>NaN</td>\n      <td>None</td>\n      <td>0</td>\n      <td>...</td>\n      <td>0</td>\n      <td>0</td>\n      <td>0</td>\n      <td>0</td>\n      <td>0</td>\n      <td>0</td>\n      <td>0</td>\n      <td>0</td>\n      <td>0</td>\n      <td>0</td>\n    </tr>\n    <tr>\n      <th>1987896</th>\n      <td>wL5jPrLRVCK_Pmo4lM1zpA</td>\n      <td>Isa</td>\n      <td>1.0</td>\n      <td>2020-12-19 02:32:39</td>\n      <td>0</td>\n      <td>0</td>\n      <td>0</td>\n      <td>NaN</td>\n      <td>None</td>\n      <td>0</td>\n      <td>...</td>\n      <td>0</td>\n      <td>0</td>\n      <td>0</td>\n      <td>0</td>\n      <td>0</td>\n      <td>0</td>\n      <td>0</td>\n      <td>0</td>\n      <td>0</td>\n      <td>0</td>\n    </tr>\n  </tbody>\n</table>\n<p>1987897 rows × 22 columns</p>\n</div>"
     },
     "execution_count": 61,
     "metadata": {},
     "output_type": "execute_result"
    }
   ],
   "source": [
    "import pandas as pd\n",
    "from datetime import datetime\n",
    "\n",
    "dataset_path = './dataset'\n",
    "user_data = pd.read_csv(dataset_path + '/user.csv')\n",
    "user_data"
   ],
   "metadata": {
    "collapsed": false,
    "pycharm": {
     "name": "#%%\n"
    }
   }
  },
  {
   "cell_type": "code",
   "execution_count": 62,
   "outputs": [],
   "source": [
    "user_data['user_id'].value_counts()\n",
    "\n",
    "df = pd.DataFrame()\n",
    "df['user_id'] = user_data['user_id']\n",
    "df['review_count'] = user_data['review_count']\n",
    "df['fans'] = user_data['fans']\n",
    "df['hours_yelping'] = user_data['yelping_since'].map(\n",
    "    lambda d: (datetime.now() - datetime.fromisoformat(d)).total_seconds() / 3600)\n"
   ],
   "metadata": {
    "collapsed": false,
    "pycharm": {
     "name": "#%%\n"
    }
   }
  },
  {
   "cell_type": "markdown",
   "source": [
    "Corrijo orden para que la review_count y los fans sean comparables con las horas desde primer inicio"
   ],
   "metadata": {
    "collapsed": false,
    "pycharm": {
     "name": "#%% md\n"
    }
   }
  },
  {
   "cell_type": "code",
   "execution_count": 63,
   "outputs": [
    {
     "data": {
      "text/plain": "                        user_id  review_count  fans  hours_yelping  \\\n0        qVc8ODYU5SZjKXVBgXdI7w           5.0   267  133820.364394   \n1        j14WgRoU_-2ZE1aw1dXrJg          64.0  3138  116288.559949   \n2        2WnXYQFK0hXEoTxPtV2zvg           0.0    52  120698.471616   \n3        SZDeASXq7o05mMNLshsdIA           0.0    28  143960.512449   \n4        hA5lMy-EnncsH4JoR-hFGQ           7.0     1  134297.471894   \n...                         ...           ...   ...            ...   \n1987892  fB3jbHi3m0L2KgGOxBv6uw           1.0     0   64164.630315   \n1987893  68czcr4BxJyMQ9cJBm6C7Q           1.0     0   51557.807815   \n1987894  1x3KMskYxOuJCjRz70xOqQ           1.0     0   45909.622815   \n1987895  ulfGl4tdbrH05xKzh5lnog           1.0     0   99036.670037   \n1987896  wL5jPrLRVCK_Pmo4lM1zpA           1.0     0   11986.611426   \n\n         review_speed    fans_speed  \n0           37.363521   1995.212023  \n1          550.355082  26984.597637  \n2            0.000000    430.825671  \n3            0.000000    194.497779  \n4           52.123096      7.446157  \n...               ...           ...  \n1987892     15.584910      0.000000  \n1987893     19.395704      0.000000  \n1987894     21.781926      0.000000  \n1987895     10.097270      0.000000  \n1987896     83.426413      0.000000  \n\n[1987897 rows x 6 columns]",
      "text/html": "<div>\n<style scoped>\n    .dataframe tbody tr th:only-of-type {\n        vertical-align: middle;\n    }\n\n    .dataframe tbody tr th {\n        vertical-align: top;\n    }\n\n    .dataframe thead th {\n        text-align: right;\n    }\n</style>\n<table border=\"1\" class=\"dataframe\">\n  <thead>\n    <tr style=\"text-align: right;\">\n      <th></th>\n      <th>user_id</th>\n      <th>review_count</th>\n      <th>fans</th>\n      <th>hours_yelping</th>\n      <th>review_speed</th>\n      <th>fans_speed</th>\n    </tr>\n  </thead>\n  <tbody>\n    <tr>\n      <th>0</th>\n      <td>qVc8ODYU5SZjKXVBgXdI7w</td>\n      <td>5.0</td>\n      <td>267</td>\n      <td>133820.364394</td>\n      <td>37.363521</td>\n      <td>1995.212023</td>\n    </tr>\n    <tr>\n      <th>1</th>\n      <td>j14WgRoU_-2ZE1aw1dXrJg</td>\n      <td>64.0</td>\n      <td>3138</td>\n      <td>116288.559949</td>\n      <td>550.355082</td>\n      <td>26984.597637</td>\n    </tr>\n    <tr>\n      <th>2</th>\n      <td>2WnXYQFK0hXEoTxPtV2zvg</td>\n      <td>0.0</td>\n      <td>52</td>\n      <td>120698.471616</td>\n      <td>0.000000</td>\n      <td>430.825671</td>\n    </tr>\n    <tr>\n      <th>3</th>\n      <td>SZDeASXq7o05mMNLshsdIA</td>\n      <td>0.0</td>\n      <td>28</td>\n      <td>143960.512449</td>\n      <td>0.000000</td>\n      <td>194.497779</td>\n    </tr>\n    <tr>\n      <th>4</th>\n      <td>hA5lMy-EnncsH4JoR-hFGQ</td>\n      <td>7.0</td>\n      <td>1</td>\n      <td>134297.471894</td>\n      <td>52.123096</td>\n      <td>7.446157</td>\n    </tr>\n    <tr>\n      <th>...</th>\n      <td>...</td>\n      <td>...</td>\n      <td>...</td>\n      <td>...</td>\n      <td>...</td>\n      <td>...</td>\n    </tr>\n    <tr>\n      <th>1987892</th>\n      <td>fB3jbHi3m0L2KgGOxBv6uw</td>\n      <td>1.0</td>\n      <td>0</td>\n      <td>64164.630315</td>\n      <td>15.584910</td>\n      <td>0.000000</td>\n    </tr>\n    <tr>\n      <th>1987893</th>\n      <td>68czcr4BxJyMQ9cJBm6C7Q</td>\n      <td>1.0</td>\n      <td>0</td>\n      <td>51557.807815</td>\n      <td>19.395704</td>\n      <td>0.000000</td>\n    </tr>\n    <tr>\n      <th>1987894</th>\n      <td>1x3KMskYxOuJCjRz70xOqQ</td>\n      <td>1.0</td>\n      <td>0</td>\n      <td>45909.622815</td>\n      <td>21.781926</td>\n      <td>0.000000</td>\n    </tr>\n    <tr>\n      <th>1987895</th>\n      <td>ulfGl4tdbrH05xKzh5lnog</td>\n      <td>1.0</td>\n      <td>0</td>\n      <td>99036.670037</td>\n      <td>10.097270</td>\n      <td>0.000000</td>\n    </tr>\n    <tr>\n      <th>1987896</th>\n      <td>wL5jPrLRVCK_Pmo4lM1zpA</td>\n      <td>1.0</td>\n      <td>0</td>\n      <td>11986.611426</td>\n      <td>83.426413</td>\n      <td>0.000000</td>\n    </tr>\n  </tbody>\n</table>\n<p>1987897 rows × 6 columns</p>\n</div>"
     },
     "execution_count": 63,
     "metadata": {},
     "output_type": "execute_result"
    }
   ],
   "source": [
    "df['review_speed'] = user_data['review_count'] * 10e5 / df['hours_yelping']\n",
    "df['fans_speed'] = user_data['fans'] * 10e5 / df['hours_yelping']\n",
    "df"
   ],
   "metadata": {
    "collapsed": false,
    "pycharm": {
     "name": "#%%\n"
    }
   }
  },
  {
   "cell_type": "code",
   "execution_count": 64,
   "outputs": [
    {
     "name": "stdout",
     "output_type": "stream",
     "text": [
      "41.05011492877576\n",
      "17.022643600093847\n"
     ]
    }
   ],
   "source": [
    "v_prom_rev = df['review_speed'].mean()\n",
    "v_prom_fans = df['fans_speed'].mean()\n",
    "\n",
    "print(v_prom_rev)\n",
    "print(v_prom_fans)"
   ],
   "metadata": {
    "collapsed": false,
    "pycharm": {
     "name": "#%%\n"
    }
   }
  },
  {
   "cell_type": "markdown",
   "source": [
    "Cantidad de usuarios merecientes de medallita"
   ],
   "metadata": {
    "collapsed": false,
    "pycharm": {
     "name": "#%% md\n"
    }
   }
  },
  {
   "cell_type": "code",
   "execution_count": 65,
   "outputs": [
    {
     "data": {
      "text/plain": "68800"
     },
     "execution_count": 65,
     "metadata": {},
     "output_type": "execute_result"
    }
   ],
   "source": [
    "df = df[df['fans_speed'] > v_prom_fans]  # por sobre el promedio de velocidad de fans\n",
    "df = df[df['review_speed'] > v_prom_rev]  # por sobre el promedio de velocidad de reviews\n",
    "df['user_id'].count()"
   ],
   "metadata": {
    "collapsed": false,
    "pycharm": {
     "name": "#%%\n"
    }
   }
  }
 ],
 "metadata": {
  "kernelspec": {
   "display_name": "Python 3",
   "language": "python",
   "name": "python3"
  },
  "language_info": {
   "codemirror_mode": {
    "name": "ipython",
    "version": 2
   },
   "file_extension": ".py",
   "mimetype": "text/x-python",
   "name": "python",
   "nbconvert_exporter": "python",
   "pygments_lexer": "ipython2",
   "version": "2.7.6"
  }
 },
 "nbformat": 4,
 "nbformat_minor": 0
}