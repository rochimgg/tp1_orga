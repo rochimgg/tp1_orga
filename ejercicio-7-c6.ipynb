{
 "cells": [
  {
   "cell_type": "markdown",
   "source": [
    "## Para las reviews que superaron el cuantil 0.95 en votos funny, calcular la probabilidad de aparición de una de estas reviews para cada día de la semana. Hacer lo mismo con votos cool. Calcular la entropía de ambas y la divergencia de kullback leibler entre ellas. Interpretando estos resultados responder:\n",
    "* ¿Cuál de los dos eventos es más difícil de predecir?\n",
    "* ¿Cuál de estas distribuciones de probabilidades aproxima peor a la otra?"
   ],
   "metadata": {
    "collapsed": false,
    "pycharm": {
     "name": "#%% md\n"
    }
   }
  },
  {
   "cell_type": "code",
   "execution_count": 78,
   "outputs": [
    {
     "data": {
      "text/plain": "                      review_id                 user_id  \\\n0        KU_O5udG6zpxOg-VcAEodg  mh_-eMZ6K5RLWhZyISBhwA   \n1        Sx8TMOWLNuJBWer-0pcmoA  bcjbaE6dDog4jkNY91ncLQ   \n2        lUUhg8ltDsUZ9h0xnwY4Dg  RreNy--tOmXMl1en0wiBOg   \n3        -P5E9BYUaK7s3PwBF5oAyg  Jha0USGDMefGFRLik_xFQg   \n4        YbMyvlDA2W3Py5lTz8VK-A  4hBhtCSgoxkrFgHa4YAD-w   \n...                         ...                     ...   \n3838100  zHZ-A1qyKDEgyZMDaD--wg  _XVdmFWSgTN6YlojUxixTA   \n3838101  shTPgbgdwTHSuU67mGCmZQ  Zo0th2m8Ez4gLSbHftiQvg   \n3838102  YNfNhgZlaaCO5Q_YJR4rEw  mm6E4FbCMwJmb7kPDZ5v2Q   \n3838103  i-I4ZOhoX70Nw5H0FwrQUA  YwAMC-jvZ1fvEUum6QkEkw   \n3838104  RwcKOdEuLRHNJe4M9-qpqg  6JehEvdoCvZPJ_XIxnzIIw   \n\n                    business_id  stars  useful  funny  cool  \\\n0        XQfwVwDr-v0ZS3_CbbE5Xw    3.0     0.0    0.0   0.0   \n1        e4Vwtrqf-wpJfwesgvdgxQ    4.0     1.0    0.0   1.0   \n2        cPepkJeRMtHapc_b2Oe_dw    4.0     1.0    0.0   1.0   \n3        bMratNjTG5ZFEA6hVyr-xQ    5.0     0.0    0.0   0.0   \n4        bbEXAEFr4RYHLlZ-HFssTA    5.0     0.0    0.0   0.0   \n...                         ...    ...     ...    ...   ...   \n3838100  6WaI-IN8ql0xpEKlb4q8tg    5.0     1.0    0.0   0.0   \n3838101  2vLksaMmSEcGbjI5gywpZA    5.0     2.0    1.0   2.0   \n3838102  R1khUUxidqfaJmcpmGd4aw    4.0     1.0    0.0   0.0   \n3838103  Rr9kKArrMhSLVE9a53q-aA    5.0     1.0    0.0   0.0   \n3838104  VAeEXLbEcI9Emt9KGYq9aA    3.0    10.0    3.0   7.0   \n\n                                                      text  \\\n0        If you decide to eat here, just be aware it is...   \n1        Cute interior and owner (?) gave us tour of up...   \n2        I was really between 3 and 4 stars for this on...   \n3        First time there and it was excellent!!! It fe...   \n4        Great burgers,fries and salad!  Burgers have a...   \n...                                                    ...   \n3838100  We redesigned my moms dress and mad it complet...   \n3838101  This spot offers a great, affordable east week...   \n3838102  This Home Depot won me over when I needed to g...   \n3838103  For when I'm feeling like ignoring my calorie-...   \n3838104  Located in the 'Walking District' in Nashville...   \n\n                        date  \n0        2018-07-07 22:09:11  \n1        2017-01-14 20:54:15  \n2        2018-07-17 03:30:07  \n3        2017-02-19 13:32:05  \n4        2017-01-02 03:17:34  \n...                      ...  \n3838100  2022-01-17 20:59:01  \n3838101  2021-03-31 16:55:10  \n3838102  2019-12-30 03:56:30  \n3838103  2022-01-19 18:59:27  \n3838104  2018-01-02 22:50:47  \n\n[3838105 rows x 9 columns]",
      "text/html": "<div>\n<style scoped>\n    .dataframe tbody tr th:only-of-type {\n        vertical-align: middle;\n    }\n\n    .dataframe tbody tr th {\n        vertical-align: top;\n    }\n\n    .dataframe thead th {\n        text-align: right;\n    }\n</style>\n<table border=\"1\" class=\"dataframe\">\n  <thead>\n    <tr style=\"text-align: right;\">\n      <th></th>\n      <th>review_id</th>\n      <th>user_id</th>\n      <th>business_id</th>\n      <th>stars</th>\n      <th>useful</th>\n      <th>funny</th>\n      <th>cool</th>\n      <th>text</th>\n      <th>date</th>\n    </tr>\n  </thead>\n  <tbody>\n    <tr>\n      <th>0</th>\n      <td>KU_O5udG6zpxOg-VcAEodg</td>\n      <td>mh_-eMZ6K5RLWhZyISBhwA</td>\n      <td>XQfwVwDr-v0ZS3_CbbE5Xw</td>\n      <td>3.0</td>\n      <td>0.0</td>\n      <td>0.0</td>\n      <td>0.0</td>\n      <td>If you decide to eat here, just be aware it is...</td>\n      <td>2018-07-07 22:09:11</td>\n    </tr>\n    <tr>\n      <th>1</th>\n      <td>Sx8TMOWLNuJBWer-0pcmoA</td>\n      <td>bcjbaE6dDog4jkNY91ncLQ</td>\n      <td>e4Vwtrqf-wpJfwesgvdgxQ</td>\n      <td>4.0</td>\n      <td>1.0</td>\n      <td>0.0</td>\n      <td>1.0</td>\n      <td>Cute interior and owner (?) gave us tour of up...</td>\n      <td>2017-01-14 20:54:15</td>\n    </tr>\n    <tr>\n      <th>2</th>\n      <td>lUUhg8ltDsUZ9h0xnwY4Dg</td>\n      <td>RreNy--tOmXMl1en0wiBOg</td>\n      <td>cPepkJeRMtHapc_b2Oe_dw</td>\n      <td>4.0</td>\n      <td>1.0</td>\n      <td>0.0</td>\n      <td>1.0</td>\n      <td>I was really between 3 and 4 stars for this on...</td>\n      <td>2018-07-17 03:30:07</td>\n    </tr>\n    <tr>\n      <th>3</th>\n      <td>-P5E9BYUaK7s3PwBF5oAyg</td>\n      <td>Jha0USGDMefGFRLik_xFQg</td>\n      <td>bMratNjTG5ZFEA6hVyr-xQ</td>\n      <td>5.0</td>\n      <td>0.0</td>\n      <td>0.0</td>\n      <td>0.0</td>\n      <td>First time there and it was excellent!!! It fe...</td>\n      <td>2017-02-19 13:32:05</td>\n    </tr>\n    <tr>\n      <th>4</th>\n      <td>YbMyvlDA2W3Py5lTz8VK-A</td>\n      <td>4hBhtCSgoxkrFgHa4YAD-w</td>\n      <td>bbEXAEFr4RYHLlZ-HFssTA</td>\n      <td>5.0</td>\n      <td>0.0</td>\n      <td>0.0</td>\n      <td>0.0</td>\n      <td>Great burgers,fries and salad!  Burgers have a...</td>\n      <td>2017-01-02 03:17:34</td>\n    </tr>\n    <tr>\n      <th>...</th>\n      <td>...</td>\n      <td>...</td>\n      <td>...</td>\n      <td>...</td>\n      <td>...</td>\n      <td>...</td>\n      <td>...</td>\n      <td>...</td>\n      <td>...</td>\n    </tr>\n    <tr>\n      <th>3838100</th>\n      <td>zHZ-A1qyKDEgyZMDaD--wg</td>\n      <td>_XVdmFWSgTN6YlojUxixTA</td>\n      <td>6WaI-IN8ql0xpEKlb4q8tg</td>\n      <td>5.0</td>\n      <td>1.0</td>\n      <td>0.0</td>\n      <td>0.0</td>\n      <td>We redesigned my moms dress and mad it complet...</td>\n      <td>2022-01-17 20:59:01</td>\n    </tr>\n    <tr>\n      <th>3838101</th>\n      <td>shTPgbgdwTHSuU67mGCmZQ</td>\n      <td>Zo0th2m8Ez4gLSbHftiQvg</td>\n      <td>2vLksaMmSEcGbjI5gywpZA</td>\n      <td>5.0</td>\n      <td>2.0</td>\n      <td>1.0</td>\n      <td>2.0</td>\n      <td>This spot offers a great, affordable east week...</td>\n      <td>2021-03-31 16:55:10</td>\n    </tr>\n    <tr>\n      <th>3838102</th>\n      <td>YNfNhgZlaaCO5Q_YJR4rEw</td>\n      <td>mm6E4FbCMwJmb7kPDZ5v2Q</td>\n      <td>R1khUUxidqfaJmcpmGd4aw</td>\n      <td>4.0</td>\n      <td>1.0</td>\n      <td>0.0</td>\n      <td>0.0</td>\n      <td>This Home Depot won me over when I needed to g...</td>\n      <td>2019-12-30 03:56:30</td>\n    </tr>\n    <tr>\n      <th>3838103</th>\n      <td>i-I4ZOhoX70Nw5H0FwrQUA</td>\n      <td>YwAMC-jvZ1fvEUum6QkEkw</td>\n      <td>Rr9kKArrMhSLVE9a53q-aA</td>\n      <td>5.0</td>\n      <td>1.0</td>\n      <td>0.0</td>\n      <td>0.0</td>\n      <td>For when I'm feeling like ignoring my calorie-...</td>\n      <td>2022-01-19 18:59:27</td>\n    </tr>\n    <tr>\n      <th>3838104</th>\n      <td>RwcKOdEuLRHNJe4M9-qpqg</td>\n      <td>6JehEvdoCvZPJ_XIxnzIIw</td>\n      <td>VAeEXLbEcI9Emt9KGYq9aA</td>\n      <td>3.0</td>\n      <td>10.0</td>\n      <td>3.0</td>\n      <td>7.0</td>\n      <td>Located in the 'Walking District' in Nashville...</td>\n      <td>2018-01-02 22:50:47</td>\n    </tr>\n  </tbody>\n</table>\n<p>3838105 rows × 9 columns</p>\n</div>"
     },
     "execution_count": 78,
     "metadata": {},
     "output_type": "execute_result"
    }
   ],
   "source": [
    "import pandas as pd\n",
    "from datetime import datetime\n",
    "import math\n",
    "\n",
    "dataset_path = './dataset'\n",
    "review_data = pd.read_csv(dataset_path + '/review.csv')\n",
    "review_data"
   ],
   "metadata": {
    "collapsed": false,
    "pycharm": {
     "name": "#%%\n"
    }
   }
  },
  {
   "cell_type": "code",
   "execution_count": 79,
   "outputs": [
    {
     "data": {
      "text/plain": "                      review_id                 user_id  \\\n72       GY2rCySJI41AXWMXvrDTJg  nnImk681KaRqUVHlSfZjGQ   \n124      nhfB-ssDwJxbpAUjlE889A  fr1Hz2acAb3OaL3l6DyKNg   \n269      pvM11aNlL7Di1m4Ce8Vc1Q  3KQPKFsnNdeAOqo5f8vTfw   \n284      Mb5k1Gllt2_x8l_0WM3lUg  Xw7ZjaGfr0WNVt6s_5KZfA   \n330      _Ub20uO1MKy4XOVPOdzpqw  lUYboGI6aFbZ0dX27pijpA   \n...                         ...                     ...   \n3838075  kZiKvXxK7o5i7fa32u5Jgw  6jjHo9Lilv3kTy87pm2ycw   \n3838080  5n_oSwXspiiSsZgNwjp48g  bJ5FtCtZX3ZZacz2_2PJjA   \n3838089  1ryZLb9pSBz0y66tHB-rfw  XJTO9x78TgWE94cmXqNduA   \n3838090  tWCi4N2qCil876BI2NDAZg  5d32aJe0a3_fSl3LIVYkWQ   \n3838104  RwcKOdEuLRHNJe4M9-qpqg  6JehEvdoCvZPJ_XIxnzIIw   \n\n                    business_id  stars  useful  funny  cool  \\\n72       nFjk0xVI9fNiVN__5g-m8Q    5.0     4.0    2.0   6.0   \n124      t-bcEvAM8oE92tm9HBr7wQ    3.0     8.0    3.0   9.0   \n269      dpwkz52tHB2MCPv53I2aRA    5.0     1.0    2.0   2.0   \n284      Iso6F11o-W4g6d7OUEaMng    4.0    11.0    4.0   9.0   \n330      gebiRewfieSdtt17PTW6Zg    1.0     0.0    2.0   0.0   \n...                         ...    ...     ...    ...   ...   \n3838075  pQAQwhBlSQdG1HuuLuCqXw    5.0    46.0   17.0  45.0   \n3838080  SOsjW1JARmtHUFtpFlp8rw    4.0     5.0    2.0   5.0   \n3838089  c3QxX3toWdqJnKQmmIliRQ    1.0     1.0    2.0   0.0   \n3838090  EmrOCT7fArKI0JI_XF6aaw    1.0     5.0    2.0   0.0   \n3838104  VAeEXLbEcI9Emt9KGYq9aA    3.0    10.0    3.0   7.0   \n\n                                                      text  \\\n72       Ichicoro Ane gets lots of things right and the...   \n124      We have big group of 12 for the office outing ...   \n269      Very nice, quiet and dark restaurant. Chinese ...   \n284      My dad and I were here for lunch and after rea...   \n330      Sat down over a half hour, only miso and drink...   \n...                                                    ...   \n3838075  Just $5 every SUNDAY in October! Do it!\\n\\nOh,...   \n3838080  When I first heard that the Peace A Pizza (htt...   \n3838089  The supper club is ridiculously expensive. So,...   \n3838090  Temple University blatantly disregards freedom...   \n3838104  Located in the 'Walking District' in Nashville...   \n\n                        date  \n72       2018-02-23 22:49:01  \n124      2017-05-26 03:20:52  \n269      2017-03-03 23:50:03  \n284      2017-10-02 18:22:13  \n330      2017-06-28 01:04:59  \n...                      ...  \n3838075  2020-10-11 00:09:30  \n3838080  2017-02-23 19:11:04  \n3838089  2021-11-29 18:26:40  \n3838090  2021-08-28 18:46:05  \n3838104  2018-01-02 22:50:47  \n\n[146389 rows x 9 columns]",
      "text/html": "<div>\n<style scoped>\n    .dataframe tbody tr th:only-of-type {\n        vertical-align: middle;\n    }\n\n    .dataframe tbody tr th {\n        vertical-align: top;\n    }\n\n    .dataframe thead th {\n        text-align: right;\n    }\n</style>\n<table border=\"1\" class=\"dataframe\">\n  <thead>\n    <tr style=\"text-align: right;\">\n      <th></th>\n      <th>review_id</th>\n      <th>user_id</th>\n      <th>business_id</th>\n      <th>stars</th>\n      <th>useful</th>\n      <th>funny</th>\n      <th>cool</th>\n      <th>text</th>\n      <th>date</th>\n    </tr>\n  </thead>\n  <tbody>\n    <tr>\n      <th>72</th>\n      <td>GY2rCySJI41AXWMXvrDTJg</td>\n      <td>nnImk681KaRqUVHlSfZjGQ</td>\n      <td>nFjk0xVI9fNiVN__5g-m8Q</td>\n      <td>5.0</td>\n      <td>4.0</td>\n      <td>2.0</td>\n      <td>6.0</td>\n      <td>Ichicoro Ane gets lots of things right and the...</td>\n      <td>2018-02-23 22:49:01</td>\n    </tr>\n    <tr>\n      <th>124</th>\n      <td>nhfB-ssDwJxbpAUjlE889A</td>\n      <td>fr1Hz2acAb3OaL3l6DyKNg</td>\n      <td>t-bcEvAM8oE92tm9HBr7wQ</td>\n      <td>3.0</td>\n      <td>8.0</td>\n      <td>3.0</td>\n      <td>9.0</td>\n      <td>We have big group of 12 for the office outing ...</td>\n      <td>2017-05-26 03:20:52</td>\n    </tr>\n    <tr>\n      <th>269</th>\n      <td>pvM11aNlL7Di1m4Ce8Vc1Q</td>\n      <td>3KQPKFsnNdeAOqo5f8vTfw</td>\n      <td>dpwkz52tHB2MCPv53I2aRA</td>\n      <td>5.0</td>\n      <td>1.0</td>\n      <td>2.0</td>\n      <td>2.0</td>\n      <td>Very nice, quiet and dark restaurant. Chinese ...</td>\n      <td>2017-03-03 23:50:03</td>\n    </tr>\n    <tr>\n      <th>284</th>\n      <td>Mb5k1Gllt2_x8l_0WM3lUg</td>\n      <td>Xw7ZjaGfr0WNVt6s_5KZfA</td>\n      <td>Iso6F11o-W4g6d7OUEaMng</td>\n      <td>4.0</td>\n      <td>11.0</td>\n      <td>4.0</td>\n      <td>9.0</td>\n      <td>My dad and I were here for lunch and after rea...</td>\n      <td>2017-10-02 18:22:13</td>\n    </tr>\n    <tr>\n      <th>330</th>\n      <td>_Ub20uO1MKy4XOVPOdzpqw</td>\n      <td>lUYboGI6aFbZ0dX27pijpA</td>\n      <td>gebiRewfieSdtt17PTW6Zg</td>\n      <td>1.0</td>\n      <td>0.0</td>\n      <td>2.0</td>\n      <td>0.0</td>\n      <td>Sat down over a half hour, only miso and drink...</td>\n      <td>2017-06-28 01:04:59</td>\n    </tr>\n    <tr>\n      <th>...</th>\n      <td>...</td>\n      <td>...</td>\n      <td>...</td>\n      <td>...</td>\n      <td>...</td>\n      <td>...</td>\n      <td>...</td>\n      <td>...</td>\n      <td>...</td>\n    </tr>\n    <tr>\n      <th>3838075</th>\n      <td>kZiKvXxK7o5i7fa32u5Jgw</td>\n      <td>6jjHo9Lilv3kTy87pm2ycw</td>\n      <td>pQAQwhBlSQdG1HuuLuCqXw</td>\n      <td>5.0</td>\n      <td>46.0</td>\n      <td>17.0</td>\n      <td>45.0</td>\n      <td>Just $5 every SUNDAY in October! Do it!\\n\\nOh,...</td>\n      <td>2020-10-11 00:09:30</td>\n    </tr>\n    <tr>\n      <th>3838080</th>\n      <td>5n_oSwXspiiSsZgNwjp48g</td>\n      <td>bJ5FtCtZX3ZZacz2_2PJjA</td>\n      <td>SOsjW1JARmtHUFtpFlp8rw</td>\n      <td>4.0</td>\n      <td>5.0</td>\n      <td>2.0</td>\n      <td>5.0</td>\n      <td>When I first heard that the Peace A Pizza (htt...</td>\n      <td>2017-02-23 19:11:04</td>\n    </tr>\n    <tr>\n      <th>3838089</th>\n      <td>1ryZLb9pSBz0y66tHB-rfw</td>\n      <td>XJTO9x78TgWE94cmXqNduA</td>\n      <td>c3QxX3toWdqJnKQmmIliRQ</td>\n      <td>1.0</td>\n      <td>1.0</td>\n      <td>2.0</td>\n      <td>0.0</td>\n      <td>The supper club is ridiculously expensive. So,...</td>\n      <td>2021-11-29 18:26:40</td>\n    </tr>\n    <tr>\n      <th>3838090</th>\n      <td>tWCi4N2qCil876BI2NDAZg</td>\n      <td>5d32aJe0a3_fSl3LIVYkWQ</td>\n      <td>EmrOCT7fArKI0JI_XF6aaw</td>\n      <td>1.0</td>\n      <td>5.0</td>\n      <td>2.0</td>\n      <td>0.0</td>\n      <td>Temple University blatantly disregards freedom...</td>\n      <td>2021-08-28 18:46:05</td>\n    </tr>\n    <tr>\n      <th>3838104</th>\n      <td>RwcKOdEuLRHNJe4M9-qpqg</td>\n      <td>6JehEvdoCvZPJ_XIxnzIIw</td>\n      <td>VAeEXLbEcI9Emt9KGYq9aA</td>\n      <td>3.0</td>\n      <td>10.0</td>\n      <td>3.0</td>\n      <td>7.0</td>\n      <td>Located in the 'Walking District' in Nashville...</td>\n      <td>2018-01-02 22:50:47</td>\n    </tr>\n  </tbody>\n</table>\n<p>146389 rows × 9 columns</p>\n</div>"
     },
     "execution_count": 79,
     "metadata": {},
     "output_type": "execute_result"
    }
   ],
   "source": [
    "quan_95_funny = review_data[review_data.funny > review_data.funny.quantile(.95)]\n",
    "quan_95_funny"
   ],
   "metadata": {
    "collapsed": false,
    "pycharm": {
     "name": "#%%\n"
    }
   }
  },
  {
   "cell_type": "code",
   "execution_count": 80,
   "outputs": [
    {
     "data": {
      "text/plain": "                      review_id                 user_id  \\\n24       gImS1dtA_TixEouDfp2o4g  xE7AXFF9wVaN6id6OCtH3Q   \n59       BVJysQgBmQlEFCP8ySHGjw  0rZEWmL2rccd-N5VMzKLiQ   \n72       GY2rCySJI41AXWMXvrDTJg  nnImk681KaRqUVHlSfZjGQ   \n107      xoZmWuioJtp1Jw1WSqT-7A  2QDiMTrheevtsKETQ0TPdQ   \n124      nhfB-ssDwJxbpAUjlE889A  fr1Hz2acAb3OaL3l6DyKNg   \n...                         ...                     ...   \n3838075  kZiKvXxK7o5i7fa32u5Jgw  6jjHo9Lilv3kTy87pm2ycw   \n3838080  5n_oSwXspiiSsZgNwjp48g  bJ5FtCtZX3ZZacz2_2PJjA   \n3838086  pJvL9AN6gDoixiLLNF1c7w  nsTmZRhVzY5YahKZQkAPbw   \n3838101  shTPgbgdwTHSuU67mGCmZQ  Zo0th2m8Ez4gLSbHftiQvg   \n3838104  RwcKOdEuLRHNJe4M9-qpqg  6JehEvdoCvZPJ_XIxnzIIw   \n\n                    business_id  stars  useful  funny  cool  \\\n24       D5V0Fawd6ODVgqCY8xngsw    4.0     1.0    0.0   2.0   \n59       7T1VAYHIS3cgsDj3iS6JWQ    4.0     1.0    0.0   2.0   \n72       nFjk0xVI9fNiVN__5g-m8Q    5.0     4.0    2.0   6.0   \n107      13UbOVDFdxloxaient5XWA    5.0     1.0    0.0   2.0   \n124      t-bcEvAM8oE92tm9HBr7wQ    3.0     8.0    3.0   9.0   \n...                         ...    ...     ...    ...   ...   \n3838075  pQAQwhBlSQdG1HuuLuCqXw    5.0    46.0   17.0  45.0   \n3838080  SOsjW1JARmtHUFtpFlp8rw    4.0     5.0    2.0   5.0   \n3838086  r2IhvKZQ_wLR5mLBnPOilg    4.0     4.0    1.0   3.0   \n3838101  2vLksaMmSEcGbjI5gywpZA    5.0     2.0    1.0   2.0   \n3838104  VAeEXLbEcI9Emt9KGYq9aA    3.0    10.0    3.0   7.0   \n\n                                                      text  \\\n24       I have been to a number of dog friendly hotels...   \n59       Cute lil spot on Germantown Ave. I came in cra...   \n72       Ichicoro Ane gets lots of things right and the...   \n107      Last May, my wife and I used Jump on the Schoo...   \n124      We have big group of 12 for the office outing ...   \n...                                                    ...   \n3838075  Just $5 every SUNDAY in October! Do it!\\n\\nOh,...   \n3838080  When I first heard that the Peace A Pizza (htt...   \n3838086  One of my favorite restaurants in Santa Barbar...   \n3838101  This spot offers a great, affordable east week...   \n3838104  Located in the 'Walking District' in Nashville...   \n\n                        date  \n24       2017-01-14 21:05:04  \n59       2017-05-26 16:48:08  \n72       2018-02-23 22:49:01  \n107      2017-06-28 02:34:58  \n124      2017-05-26 03:20:52  \n...                      ...  \n3838075  2020-10-11 00:09:30  \n3838080  2017-02-23 19:11:04  \n3838086  2019-03-27 04:16:27  \n3838101  2021-03-31 16:55:10  \n3838104  2018-01-02 22:50:47  \n\n[273654 rows x 9 columns]",
      "text/html": "<div>\n<style scoped>\n    .dataframe tbody tr th:only-of-type {\n        vertical-align: middle;\n    }\n\n    .dataframe tbody tr th {\n        vertical-align: top;\n    }\n\n    .dataframe thead th {\n        text-align: right;\n    }\n</style>\n<table border=\"1\" class=\"dataframe\">\n  <thead>\n    <tr style=\"text-align: right;\">\n      <th></th>\n      <th>review_id</th>\n      <th>user_id</th>\n      <th>business_id</th>\n      <th>stars</th>\n      <th>useful</th>\n      <th>funny</th>\n      <th>cool</th>\n      <th>text</th>\n      <th>date</th>\n    </tr>\n  </thead>\n  <tbody>\n    <tr>\n      <th>24</th>\n      <td>gImS1dtA_TixEouDfp2o4g</td>\n      <td>xE7AXFF9wVaN6id6OCtH3Q</td>\n      <td>D5V0Fawd6ODVgqCY8xngsw</td>\n      <td>4.0</td>\n      <td>1.0</td>\n      <td>0.0</td>\n      <td>2.0</td>\n      <td>I have been to a number of dog friendly hotels...</td>\n      <td>2017-01-14 21:05:04</td>\n    </tr>\n    <tr>\n      <th>59</th>\n      <td>BVJysQgBmQlEFCP8ySHGjw</td>\n      <td>0rZEWmL2rccd-N5VMzKLiQ</td>\n      <td>7T1VAYHIS3cgsDj3iS6JWQ</td>\n      <td>4.0</td>\n      <td>1.0</td>\n      <td>0.0</td>\n      <td>2.0</td>\n      <td>Cute lil spot on Germantown Ave. I came in cra...</td>\n      <td>2017-05-26 16:48:08</td>\n    </tr>\n    <tr>\n      <th>72</th>\n      <td>GY2rCySJI41AXWMXvrDTJg</td>\n      <td>nnImk681KaRqUVHlSfZjGQ</td>\n      <td>nFjk0xVI9fNiVN__5g-m8Q</td>\n      <td>5.0</td>\n      <td>4.0</td>\n      <td>2.0</td>\n      <td>6.0</td>\n      <td>Ichicoro Ane gets lots of things right and the...</td>\n      <td>2018-02-23 22:49:01</td>\n    </tr>\n    <tr>\n      <th>107</th>\n      <td>xoZmWuioJtp1Jw1WSqT-7A</td>\n      <td>2QDiMTrheevtsKETQ0TPdQ</td>\n      <td>13UbOVDFdxloxaient5XWA</td>\n      <td>5.0</td>\n      <td>1.0</td>\n      <td>0.0</td>\n      <td>2.0</td>\n      <td>Last May, my wife and I used Jump on the Schoo...</td>\n      <td>2017-06-28 02:34:58</td>\n    </tr>\n    <tr>\n      <th>124</th>\n      <td>nhfB-ssDwJxbpAUjlE889A</td>\n      <td>fr1Hz2acAb3OaL3l6DyKNg</td>\n      <td>t-bcEvAM8oE92tm9HBr7wQ</td>\n      <td>3.0</td>\n      <td>8.0</td>\n      <td>3.0</td>\n      <td>9.0</td>\n      <td>We have big group of 12 for the office outing ...</td>\n      <td>2017-05-26 03:20:52</td>\n    </tr>\n    <tr>\n      <th>...</th>\n      <td>...</td>\n      <td>...</td>\n      <td>...</td>\n      <td>...</td>\n      <td>...</td>\n      <td>...</td>\n      <td>...</td>\n      <td>...</td>\n      <td>...</td>\n    </tr>\n    <tr>\n      <th>3838075</th>\n      <td>kZiKvXxK7o5i7fa32u5Jgw</td>\n      <td>6jjHo9Lilv3kTy87pm2ycw</td>\n      <td>pQAQwhBlSQdG1HuuLuCqXw</td>\n      <td>5.0</td>\n      <td>46.0</td>\n      <td>17.0</td>\n      <td>45.0</td>\n      <td>Just $5 every SUNDAY in October! Do it!\\n\\nOh,...</td>\n      <td>2020-10-11 00:09:30</td>\n    </tr>\n    <tr>\n      <th>3838080</th>\n      <td>5n_oSwXspiiSsZgNwjp48g</td>\n      <td>bJ5FtCtZX3ZZacz2_2PJjA</td>\n      <td>SOsjW1JARmtHUFtpFlp8rw</td>\n      <td>4.0</td>\n      <td>5.0</td>\n      <td>2.0</td>\n      <td>5.0</td>\n      <td>When I first heard that the Peace A Pizza (htt...</td>\n      <td>2017-02-23 19:11:04</td>\n    </tr>\n    <tr>\n      <th>3838086</th>\n      <td>pJvL9AN6gDoixiLLNF1c7w</td>\n      <td>nsTmZRhVzY5YahKZQkAPbw</td>\n      <td>r2IhvKZQ_wLR5mLBnPOilg</td>\n      <td>4.0</td>\n      <td>4.0</td>\n      <td>1.0</td>\n      <td>3.0</td>\n      <td>One of my favorite restaurants in Santa Barbar...</td>\n      <td>2019-03-27 04:16:27</td>\n    </tr>\n    <tr>\n      <th>3838101</th>\n      <td>shTPgbgdwTHSuU67mGCmZQ</td>\n      <td>Zo0th2m8Ez4gLSbHftiQvg</td>\n      <td>2vLksaMmSEcGbjI5gywpZA</td>\n      <td>5.0</td>\n      <td>2.0</td>\n      <td>1.0</td>\n      <td>2.0</td>\n      <td>This spot offers a great, affordable east week...</td>\n      <td>2021-03-31 16:55:10</td>\n    </tr>\n    <tr>\n      <th>3838104</th>\n      <td>RwcKOdEuLRHNJe4M9-qpqg</td>\n      <td>6JehEvdoCvZPJ_XIxnzIIw</td>\n      <td>VAeEXLbEcI9Emt9KGYq9aA</td>\n      <td>3.0</td>\n      <td>10.0</td>\n      <td>3.0</td>\n      <td>7.0</td>\n      <td>Located in the 'Walking District' in Nashville...</td>\n      <td>2018-01-02 22:50:47</td>\n    </tr>\n  </tbody>\n</table>\n<p>273654 rows × 9 columns</p>\n</div>"
     },
     "execution_count": 80,
     "metadata": {},
     "output_type": "execute_result"
    }
   ],
   "source": [
    "quan_95_cool = review_data[review_data.cool > review_data.funny.quantile(.95)]\n",
    "quan_95_cool"
   ],
   "metadata": {
    "collapsed": false,
    "pycharm": {
     "name": "#%%\n"
    }
   }
  },
  {
   "cell_type": "markdown",
   "source": [],
   "metadata": {
    "collapsed": false,
    "pycharm": {
     "name": "#%% md\n"
    }
   }
  },
  {
   "cell_type": "code",
   "execution_count": 81,
   "outputs": [
    {
     "name": "stdout",
     "output_type": "stream",
     "text": [
      "{'VIERNES': 0.01497532070184387, 'LUNES': 0.016834901833091588, 'MIERCOLES': 0.015489931316940177, 'SABADO': 0.01571156302727664, 'DOMINGO': 0.01724476869467272, 'MARTES': 0.01586184754318972, 'JUEVES': 0.0149927779940964}\n",
      "{'SABADO': 0.01534094554112533, 'VIERNES': 0.014929233427775383, 'MIERCOLES': 0.01583792347676669, 'JUEVES': 0.01506647079889203, 'LUNES': 0.01708483462084725, 'DOMINGO': 0.016742147220780823, 'MARTES': 0.016109556024923605}\n"
     ]
    }
   ],
   "source": [
    "DIA_SEMANA = {\n",
    "    0: \"LUNES\",\n",
    "    1: \"MARTES\",\n",
    "    2: \"MIERCOLES\",\n",
    "    3: \"JUEVES\",\n",
    "    4: \"VIERNES\",\n",
    "    5: \"SABADO\",\n",
    "    6: \"DOMINGO\",\n",
    "}\n",
    "\n",
    "\n",
    "def prob(df):\n",
    "    w = {}\n",
    "    for d in df.date:\n",
    "        day = DIA_SEMANA[datetime.strptime(d, '%Y-%m-%d %H:%M:%S').weekday()]\n",
    "        if day not in w: w[day] = 0\n",
    "        w[day] += 1\n",
    "    for DIA in DIA_SEMANA.values():\n",
    "        w[DIA] = w[DIA] / df.size\n",
    "    return w\n",
    "\n",
    "\n",
    "print(prob(quan_95_funny))\n",
    "print(prob(quan_95_cool))\n",
    "prob_funny = prob(quan_95_funny)\n",
    "prob_cool = prob(quan_95_cool)\n"
   ],
   "metadata": {
    "collapsed": false,
    "pycharm": {
     "name": "#%%\n"
    }
   }
  },
  {
   "cell_type": "code",
   "execution_count": 82,
   "outputs": [
    {
     "name": "stdout",
     "output_type": "stream",
     "text": [
      "H_funny:  0.663936708106841\n",
      "H_cool:  0.663956415236463\n"
     ]
    }
   ],
   "source": [
    "def h(data):\n",
    "    en = 0\n",
    "    for p in data.values():\n",
    "        en -= p * (math.log(p, 2))\n",
    "    return en\n",
    "\n",
    "\n",
    "print(\"H_funny: \", h(prob_funny))\n",
    "print(\"H_cool: \", h(prob_cool))"
   ],
   "metadata": {
    "collapsed": false,
    "pycharm": {
     "name": "#%%\n"
    }
   }
  },
  {
   "cell_type": "markdown",
   "source": [
    "El fenomeno mas impredecible es el de mayor entropía, en este caso, que alguien deje una review (cualtil 0.95) en un determinado día de la semana."
   ],
   "metadata": {
    "collapsed": false,
    "pycharm": {
     "name": "#%% md\n"
    }
   }
  },
  {
   "cell_type": "code",
   "execution_count": 83,
   "outputs": [
    {
     "name": "stdout",
     "output_type": "stream",
     "text": [
      "2.851606079144864e-05\n",
      "2.842851473877845e-05\n"
     ]
    }
   ],
   "source": [
    "def dkl(p1, p2):\n",
    "    div = 0\n",
    "    for d, p in p1.items():\n",
    "        div += p * (math.log(p / p2[d], 2))\n",
    "    return div\n",
    "\n",
    "\n",
    "print(dkl(prob_funny, prob_cool))\n",
    "print(dkl(prob_cool, prob_funny))"
   ],
   "metadata": {
    "collapsed": false,
    "pycharm": {
     "name": "#%%\n"
    }
   }
  },
  {
   "cell_type": "markdown",
   "source": [
    "Se puede observar que la divergencia es mayor cuando se calcula a partir de las probabilidades de que alguien deje una review (cuantil 0.95) del tipo `funny`.\n",
    " A mayor divergencia, peor es la aproximación. Por lo que la distribucion de `funnys` aproxima peor a la distribución de `cools`"
   ],
   "metadata": {
    "collapsed": false,
    "pycharm": {
     "name": "#%% md\n"
    }
   }
  }
 ],
 "metadata": {
  "kernelspec": {
   "display_name": "Python 3",
   "language": "python",
   "name": "python3"
  },
  "language_info": {
   "codemirror_mode": {
    "name": "ipython",
    "version": 2
   },
   "file_extension": ".py",
   "mimetype": "text/x-python",
   "name": "python",
   "nbconvert_exporter": "python",
   "pygments_lexer": "ipython2",
   "version": "2.7.6"
  }
 },
 "nbformat": 4,
 "nbformat_minor": 0
}