{
 "cells": [
  {
   "cell_type": "code",
   "execution_count": 1,
   "outputs": [
    {
     "data": {
      "text/plain": "                        user_id     name  review_count        yelping_since  \\\n0        qVc8ODYU5SZjKXVBgXdI7w   Walker           5.0  2007-01-25 16:47:26   \n1        j14WgRoU_-2ZE1aw1dXrJg   Daniel          64.0  2009-01-25 04:35:42   \n2        2WnXYQFK0hXEoTxPtV2zvg    Steph           0.0  2008-07-25 10:41:00   \n3        SZDeASXq7o05mMNLshsdIA     Gwen           0.0  2005-11-29 04:38:33   \n4        hA5lMy-EnncsH4JoR-hFGQ    Karen           7.0  2007-01-05 19:40:59   \n...                         ...      ...           ...                  ...   \n1987892  fB3jbHi3m0L2KgGOxBv6uw  Jerrold           1.0  2015-01-06 00:31:31   \n1987893  68czcr4BxJyMQ9cJBm6C7Q     Jane           1.0  2016-06-14 07:20:52   \n1987894  1x3KMskYxOuJCjRz70xOqQ  Shomari           1.0  2017-02-04 15:31:58   \n1987895  ulfGl4tdbrH05xKzh5lnog  Susanne           1.0  2011-01-14 00:29:08   \n1987896  wL5jPrLRVCK_Pmo4lM1zpA      Isa           1.0  2020-12-19 02:32:39   \n\n         useful  funny   cool  \\\n0          7217   1259   5994   \n1         43091  13066  27281   \n2          2086   1010   1003   \n3           512    330    299   \n4            29     15      7   \n...         ...    ...    ...   \n1987892       7      0      0   \n1987893       0      0      0   \n1987894       1      1      0   \n1987895       0      0      0   \n1987896       0      0      0   \n\n                                                     elite  \\\n0                                                     2007   \n1        2009,2010,2011,2012,2013,2014,2015,2016,2017,2...   \n2                                 2009,2010,2011,2012,2013   \n3                                           2009,2010,2011   \n4                                                      NaN   \n...                                                    ...   \n1987892                                                NaN   \n1987893                                                NaN   \n1987894                                                NaN   \n1987895                                                NaN   \n1987896                                                NaN   \n\n                                                   friends  fans  ...  \\\n0        NSCy54eWehBJyZdG2iE84w, pe42u7DcCH2QmI81NX-8qA...   267  ...   \n1        ueRPE0CX75ePGMqOFVj6IQ, 52oH4DrRvzzl8wh5UXyU0A...  3138  ...   \n2        LuO3Bn4f3rlhyHIaNfTlnA, j9B4XdHUhDfTKVecyWQgyA...    52  ...   \n3        enx1vVPnfdNUdPho6PH_wg, 4wOcvMLtU6a9Lslggq74Vg...    28  ...   \n4        PBK4q9KEEBHhFvSXCUirIw, 3FWPpM7KU1gXeOM_ZbYMbA...     1  ...   \n...                                                    ...   ...  ...   \n1987892                                               None     0  ...   \n1987893                                               None     0  ...   \n1987894                                               None     0  ...   \n1987895                                               None     0  ...   \n1987896                                               None     0  ...   \n\n         compliment_more  compliment_profile  compliment_cute  \\\n0                     65                  55               56   \n1                    264                 184              157   \n2                     13                  10               17   \n3                      4                   1                6   \n4                      1                   0                0   \n...                  ...                 ...              ...   \n1987892                0                   0                0   \n1987893                0                   0                0   \n1987894                0                   0                0   \n1987895                0                   0                0   \n1987896                0                   0                0   \n\n         compliment_list  compliment_note  compliment_plain  compliment_cool  \\\n0                     18              232               844              467   \n1                    251             1847              7054             3131   \n2                      3               66                96              119   \n3                      2               12                16               26   \n4                      0                1                 1                0   \n...                  ...              ...               ...              ...   \n1987892                0                0                 0                0   \n1987893                0                0                 0                0   \n1987894                0                0                 0                0   \n1987895                0                0                 0                0   \n1987896                0                0                 0                0   \n\n         compliment_funny  compliment_writer  compliment_photos  \n0                     467                239                180  \n1                    3131               1521               1946  \n2                     119                 35                 18  \n3                      26                 10                  9  \n4                       0                  0                  0  \n...                   ...                ...                ...  \n1987892                 0                  0                  0  \n1987893                 0                  0                  0  \n1987894                 0                  0                  0  \n1987895                 0                  0                  0  \n1987896                 0                  0                  0  \n\n[1987897 rows x 22 columns]",
      "text/html": "<div>\n<style scoped>\n    .dataframe tbody tr th:only-of-type {\n        vertical-align: middle;\n    }\n\n    .dataframe tbody tr th {\n        vertical-align: top;\n    }\n\n    .dataframe thead th {\n        text-align: right;\n    }\n</style>\n<table border=\"1\" class=\"dataframe\">\n  <thead>\n    <tr style=\"text-align: right;\">\n      <th></th>\n      <th>user_id</th>\n      <th>name</th>\n      <th>review_count</th>\n      <th>yelping_since</th>\n      <th>useful</th>\n      <th>funny</th>\n      <th>cool</th>\n      <th>elite</th>\n      <th>friends</th>\n      <th>fans</th>\n      <th>...</th>\n      <th>compliment_more</th>\n      <th>compliment_profile</th>\n      <th>compliment_cute</th>\n      <th>compliment_list</th>\n      <th>compliment_note</th>\n      <th>compliment_plain</th>\n      <th>compliment_cool</th>\n      <th>compliment_funny</th>\n      <th>compliment_writer</th>\n      <th>compliment_photos</th>\n    </tr>\n  </thead>\n  <tbody>\n    <tr>\n      <th>0</th>\n      <td>qVc8ODYU5SZjKXVBgXdI7w</td>\n      <td>Walker</td>\n      <td>5.0</td>\n      <td>2007-01-25 16:47:26</td>\n      <td>7217</td>\n      <td>1259</td>\n      <td>5994</td>\n      <td>2007</td>\n      <td>NSCy54eWehBJyZdG2iE84w, pe42u7DcCH2QmI81NX-8qA...</td>\n      <td>267</td>\n      <td>...</td>\n      <td>65</td>\n      <td>55</td>\n      <td>56</td>\n      <td>18</td>\n      <td>232</td>\n      <td>844</td>\n      <td>467</td>\n      <td>467</td>\n      <td>239</td>\n      <td>180</td>\n    </tr>\n    <tr>\n      <th>1</th>\n      <td>j14WgRoU_-2ZE1aw1dXrJg</td>\n      <td>Daniel</td>\n      <td>64.0</td>\n      <td>2009-01-25 04:35:42</td>\n      <td>43091</td>\n      <td>13066</td>\n      <td>27281</td>\n      <td>2009,2010,2011,2012,2013,2014,2015,2016,2017,2...</td>\n      <td>ueRPE0CX75ePGMqOFVj6IQ, 52oH4DrRvzzl8wh5UXyU0A...</td>\n      <td>3138</td>\n      <td>...</td>\n      <td>264</td>\n      <td>184</td>\n      <td>157</td>\n      <td>251</td>\n      <td>1847</td>\n      <td>7054</td>\n      <td>3131</td>\n      <td>3131</td>\n      <td>1521</td>\n      <td>1946</td>\n    </tr>\n    <tr>\n      <th>2</th>\n      <td>2WnXYQFK0hXEoTxPtV2zvg</td>\n      <td>Steph</td>\n      <td>0.0</td>\n      <td>2008-07-25 10:41:00</td>\n      <td>2086</td>\n      <td>1010</td>\n      <td>1003</td>\n      <td>2009,2010,2011,2012,2013</td>\n      <td>LuO3Bn4f3rlhyHIaNfTlnA, j9B4XdHUhDfTKVecyWQgyA...</td>\n      <td>52</td>\n      <td>...</td>\n      <td>13</td>\n      <td>10</td>\n      <td>17</td>\n      <td>3</td>\n      <td>66</td>\n      <td>96</td>\n      <td>119</td>\n      <td>119</td>\n      <td>35</td>\n      <td>18</td>\n    </tr>\n    <tr>\n      <th>3</th>\n      <td>SZDeASXq7o05mMNLshsdIA</td>\n      <td>Gwen</td>\n      <td>0.0</td>\n      <td>2005-11-29 04:38:33</td>\n      <td>512</td>\n      <td>330</td>\n      <td>299</td>\n      <td>2009,2010,2011</td>\n      <td>enx1vVPnfdNUdPho6PH_wg, 4wOcvMLtU6a9Lslggq74Vg...</td>\n      <td>28</td>\n      <td>...</td>\n      <td>4</td>\n      <td>1</td>\n      <td>6</td>\n      <td>2</td>\n      <td>12</td>\n      <td>16</td>\n      <td>26</td>\n      <td>26</td>\n      <td>10</td>\n      <td>9</td>\n    </tr>\n    <tr>\n      <th>4</th>\n      <td>hA5lMy-EnncsH4JoR-hFGQ</td>\n      <td>Karen</td>\n      <td>7.0</td>\n      <td>2007-01-05 19:40:59</td>\n      <td>29</td>\n      <td>15</td>\n      <td>7</td>\n      <td>NaN</td>\n      <td>PBK4q9KEEBHhFvSXCUirIw, 3FWPpM7KU1gXeOM_ZbYMbA...</td>\n      <td>1</td>\n      <td>...</td>\n      <td>1</td>\n      <td>0</td>\n      <td>0</td>\n      <td>0</td>\n      <td>1</td>\n      <td>1</td>\n      <td>0</td>\n      <td>0</td>\n      <td>0</td>\n      <td>0</td>\n    </tr>\n    <tr>\n      <th>...</th>\n      <td>...</td>\n      <td>...</td>\n      <td>...</td>\n      <td>...</td>\n      <td>...</td>\n      <td>...</td>\n      <td>...</td>\n      <td>...</td>\n      <td>...</td>\n      <td>...</td>\n      <td>...</td>\n      <td>...</td>\n      <td>...</td>\n      <td>...</td>\n      <td>...</td>\n      <td>...</td>\n      <td>...</td>\n      <td>...</td>\n      <td>...</td>\n      <td>...</td>\n      <td>...</td>\n    </tr>\n    <tr>\n      <th>1987892</th>\n      <td>fB3jbHi3m0L2KgGOxBv6uw</td>\n      <td>Jerrold</td>\n      <td>1.0</td>\n      <td>2015-01-06 00:31:31</td>\n      <td>7</td>\n      <td>0</td>\n      <td>0</td>\n      <td>NaN</td>\n      <td>None</td>\n      <td>0</td>\n      <td>...</td>\n      <td>0</td>\n      <td>0</td>\n      <td>0</td>\n      <td>0</td>\n      <td>0</td>\n      <td>0</td>\n      <td>0</td>\n      <td>0</td>\n      <td>0</td>\n      <td>0</td>\n    </tr>\n    <tr>\n      <th>1987893</th>\n      <td>68czcr4BxJyMQ9cJBm6C7Q</td>\n      <td>Jane</td>\n      <td>1.0</td>\n      <td>2016-06-14 07:20:52</td>\n      <td>0</td>\n      <td>0</td>\n      <td>0</td>\n      <td>NaN</td>\n      <td>None</td>\n      <td>0</td>\n      <td>...</td>\n      <td>0</td>\n      <td>0</td>\n      <td>0</td>\n      <td>0</td>\n      <td>0</td>\n      <td>0</td>\n      <td>0</td>\n      <td>0</td>\n      <td>0</td>\n      <td>0</td>\n    </tr>\n    <tr>\n      <th>1987894</th>\n      <td>1x3KMskYxOuJCjRz70xOqQ</td>\n      <td>Shomari</td>\n      <td>1.0</td>\n      <td>2017-02-04 15:31:58</td>\n      <td>1</td>\n      <td>1</td>\n      <td>0</td>\n      <td>NaN</td>\n      <td>None</td>\n      <td>0</td>\n      <td>...</td>\n      <td>0</td>\n      <td>0</td>\n      <td>0</td>\n      <td>0</td>\n      <td>0</td>\n      <td>0</td>\n      <td>0</td>\n      <td>0</td>\n      <td>0</td>\n      <td>0</td>\n    </tr>\n    <tr>\n      <th>1987895</th>\n      <td>ulfGl4tdbrH05xKzh5lnog</td>\n      <td>Susanne</td>\n      <td>1.0</td>\n      <td>2011-01-14 00:29:08</td>\n      <td>0</td>\n      <td>0</td>\n      <td>0</td>\n      <td>NaN</td>\n      <td>None</td>\n      <td>0</td>\n      <td>...</td>\n      <td>0</td>\n      <td>0</td>\n      <td>0</td>\n      <td>0</td>\n      <td>0</td>\n      <td>0</td>\n      <td>0</td>\n      <td>0</td>\n      <td>0</td>\n      <td>0</td>\n    </tr>\n    <tr>\n      <th>1987896</th>\n      <td>wL5jPrLRVCK_Pmo4lM1zpA</td>\n      <td>Isa</td>\n      <td>1.0</td>\n      <td>2020-12-19 02:32:39</td>\n      <td>0</td>\n      <td>0</td>\n      <td>0</td>\n      <td>NaN</td>\n      <td>None</td>\n      <td>0</td>\n      <td>...</td>\n      <td>0</td>\n      <td>0</td>\n      <td>0</td>\n      <td>0</td>\n      <td>0</td>\n      <td>0</td>\n      <td>0</td>\n      <td>0</td>\n      <td>0</td>\n      <td>0</td>\n    </tr>\n  </tbody>\n</table>\n<p>1987897 rows × 22 columns</p>\n</div>"
     },
     "execution_count": 1,
     "metadata": {},
     "output_type": "execute_result"
    }
   ],
   "source": [
    "import pandas as pd\n",
    "import seaborn as sns\n",
    "from datetime import datetime\n",
    "import matplotlib.pyplot as plt\n",
    "\n",
    "dataset_path = 'dataset'\n",
    "user_data = pd.read_csv(dataset_path + '/user.csv')\n",
    "user_data"
   ],
   "metadata": {
    "collapsed": false,
    "pycharm": {
     "name": "#%%\n"
    }
   }
  },
  {
   "cell_type": "code",
   "execution_count": 13,
   "outputs": [
    {
     "data": {
      "text/plain": "2015    247850\n2014    233465\n2016    217620\n2013    209762\n2012    195955\n2011    176435\n2017    151024\n2018    133568\n2010    109054\n2019    104655\n2009     64911\n2020     47444\n2021     40485\n2008     31097\n2007     15340\n2006      5423\n2022      2782\n2005       937\n2004        90\nName: yelping_since, dtype: int64"
     },
     "execution_count": 13,
     "metadata": {},
     "output_type": "execute_result"
    }
   ],
   "source": [
    "from datetime import datetime\n",
    "df = pd.DataFrame()\n",
    "df['friends'] = user_data['friends'].map(lambda x: len(x.split()))\n",
    "df['yelping_since'] = user_data['yelping_since'].map(lambda x: datetime.fromisoformat(x).year)\n",
    "df['yelping_since'].value_counts()"
   ],
   "metadata": {
    "collapsed": false,
    "pycharm": {
     "name": "#%%\n"
    }
   }
  },
  {
   "cell_type": "code",
   "execution_count": 14,
   "outputs": [
    {
     "data": {
      "text/plain": "         friends  yelping_since\n0          14995           2007\n1           4646           2009\n2            381           2008\n3            131           2005\n4             27           2007\n...          ...            ...\n1987892        1           2015\n1987893        1           2016\n1987894        1           2017\n1987895        1           2011\n1987896        1           2020\n\n[1987897 rows x 2 columns]",
      "text/html": "<div>\n<style scoped>\n    .dataframe tbody tr th:only-of-type {\n        vertical-align: middle;\n    }\n\n    .dataframe tbody tr th {\n        vertical-align: top;\n    }\n\n    .dataframe thead th {\n        text-align: right;\n    }\n</style>\n<table border=\"1\" class=\"dataframe\">\n  <thead>\n    <tr style=\"text-align: right;\">\n      <th></th>\n      <th>friends</th>\n      <th>yelping_since</th>\n    </tr>\n  </thead>\n  <tbody>\n    <tr>\n      <th>0</th>\n      <td>14995</td>\n      <td>2007</td>\n    </tr>\n    <tr>\n      <th>1</th>\n      <td>4646</td>\n      <td>2009</td>\n    </tr>\n    <tr>\n      <th>2</th>\n      <td>381</td>\n      <td>2008</td>\n    </tr>\n    <tr>\n      <th>3</th>\n      <td>131</td>\n      <td>2005</td>\n    </tr>\n    <tr>\n      <th>4</th>\n      <td>27</td>\n      <td>2007</td>\n    </tr>\n    <tr>\n      <th>...</th>\n      <td>...</td>\n      <td>...</td>\n    </tr>\n    <tr>\n      <th>1987892</th>\n      <td>1</td>\n      <td>2015</td>\n    </tr>\n    <tr>\n      <th>1987893</th>\n      <td>1</td>\n      <td>2016</td>\n    </tr>\n    <tr>\n      <th>1987894</th>\n      <td>1</td>\n      <td>2017</td>\n    </tr>\n    <tr>\n      <th>1987895</th>\n      <td>1</td>\n      <td>2011</td>\n    </tr>\n    <tr>\n      <th>1987896</th>\n      <td>1</td>\n      <td>2020</td>\n    </tr>\n  </tbody>\n</table>\n<p>1987897 rows × 2 columns</p>\n</div>"
     },
     "execution_count": 14,
     "metadata": {},
     "output_type": "execute_result"
    }
   ],
   "source": [
    "df"
   ],
   "metadata": {
    "collapsed": false,
    "pycharm": {
     "name": "#%%\n"
    }
   }
  },
  {
   "cell_type": "code",
   "execution_count": 36,
   "outputs": [
    {
     "data": {
      "text/plain": "                 amigos   año\nyelping_since                \n2004              27962  2004\n2005             183651  2005\n2006             735597  2006\n2007            1850580  2007\n2008            3206311  2008\n2009            4902434  2009\n2010            7819623  2010\n2011           10169453  2011\n2012            9227728  2012\n2013            9369784  2013\n2014           10048183  2014\n2015           14224622  2015\n2016           15390550  2016\n2017            9603390  2017\n2018            5457580  2018\n2019            3157858  2019\n2020             612541  2020\n2021             112711  2021\n2022               3467  2022",
      "text/html": "<div>\n<style scoped>\n    .dataframe tbody tr th:only-of-type {\n        vertical-align: middle;\n    }\n\n    .dataframe tbody tr th {\n        vertical-align: top;\n    }\n\n    .dataframe thead th {\n        text-align: right;\n    }\n</style>\n<table border=\"1\" class=\"dataframe\">\n  <thead>\n    <tr style=\"text-align: right;\">\n      <th></th>\n      <th>amigos</th>\n      <th>año</th>\n    </tr>\n    <tr>\n      <th>yelping_since</th>\n      <th></th>\n      <th></th>\n    </tr>\n  </thead>\n  <tbody>\n    <tr>\n      <th>2004</th>\n      <td>27962</td>\n      <td>2004</td>\n    </tr>\n    <tr>\n      <th>2005</th>\n      <td>183651</td>\n      <td>2005</td>\n    </tr>\n    <tr>\n      <th>2006</th>\n      <td>735597</td>\n      <td>2006</td>\n    </tr>\n    <tr>\n      <th>2007</th>\n      <td>1850580</td>\n      <td>2007</td>\n    </tr>\n    <tr>\n      <th>2008</th>\n      <td>3206311</td>\n      <td>2008</td>\n    </tr>\n    <tr>\n      <th>2009</th>\n      <td>4902434</td>\n      <td>2009</td>\n    </tr>\n    <tr>\n      <th>2010</th>\n      <td>7819623</td>\n      <td>2010</td>\n    </tr>\n    <tr>\n      <th>2011</th>\n      <td>10169453</td>\n      <td>2011</td>\n    </tr>\n    <tr>\n      <th>2012</th>\n      <td>9227728</td>\n      <td>2012</td>\n    </tr>\n    <tr>\n      <th>2013</th>\n      <td>9369784</td>\n      <td>2013</td>\n    </tr>\n    <tr>\n      <th>2014</th>\n      <td>10048183</td>\n      <td>2014</td>\n    </tr>\n    <tr>\n      <th>2015</th>\n      <td>14224622</td>\n      <td>2015</td>\n    </tr>\n    <tr>\n      <th>2016</th>\n      <td>15390550</td>\n      <td>2016</td>\n    </tr>\n    <tr>\n      <th>2017</th>\n      <td>9603390</td>\n      <td>2017</td>\n    </tr>\n    <tr>\n      <th>2018</th>\n      <td>5457580</td>\n      <td>2018</td>\n    </tr>\n    <tr>\n      <th>2019</th>\n      <td>3157858</td>\n      <td>2019</td>\n    </tr>\n    <tr>\n      <th>2020</th>\n      <td>612541</td>\n      <td>2020</td>\n    </tr>\n    <tr>\n      <th>2021</th>\n      <td>112711</td>\n      <td>2021</td>\n    </tr>\n    <tr>\n      <th>2022</th>\n      <td>3467</td>\n      <td>2022</td>\n    </tr>\n  </tbody>\n</table>\n</div>"
     },
     "execution_count": 36,
     "metadata": {},
     "output_type": "execute_result"
    }
   ],
   "source": [
    "friends_per_init_year = df.groupby('yelping_since')['friends'].sum()\n",
    "df2 = pd.DataFrame()\n",
    "df2['amigos'] = friends_per_init_year\n",
    "df2['año'] = friends_per_init_year.index\n",
    "\n",
    "df2"
   ],
   "metadata": {
    "collapsed": false,
    "pycharm": {
     "name": "#%%\n"
    }
   }
  },
  {
   "cell_type": "code",
   "execution_count": 39,
   "outputs": [
    {
     "data": {
      "text/plain": "<AxesSubplot:xlabel='año'>"
     },
     "execution_count": 39,
     "metadata": {},
     "output_type": "execute_result"
    },
    {
     "data": {
      "text/plain": "<Figure size 432x288 with 1 Axes>",
      "image/png": "[encoded data removed]"
     },
     "metadata": {
      "needs_background": "light"
     },
     "output_type": "display_data"
    }
   ],
   "source": [
    "df2.plot(x='año', y='amigos', kind = 'bar')"
   ],
   "metadata": {
    "collapsed": false,
    "pycharm": {
     "name": "#%%\n"
    }
   }
  },
  {
   "cell_type": "code",
   "execution_count": null,
   "outputs": [],
   "source": [],
   "metadata": {
    "collapsed": false,
    "pycharm": {
     "name": "#%%\n"
    }
   }
  }
 ],
 "metadata": {
  "kernelspec": {
   "display_name": "Python 3",
   "language": "python",
   "name": "python3"
  },
  "language_info": {
   "codemirror_mode": {
    "name": "ipython",
    "version": 2
   },
   "file_extension": ".py",
   "mimetype": "text/x-python",
   "name": "python",
   "nbconvert_exporter": "python",
   "pygments_lexer": "ipython2",
   "version": "2.7.6"
  }
 },
 "nbformat": 4,
 "nbformat_minor": 0
}