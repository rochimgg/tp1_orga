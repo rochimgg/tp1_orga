{
 "cells": [
  {
   "cell_type": "code",
   "execution_count": 84,
   "outputs": [
    {
     "data": {
      "text/plain": "                   business_id                      name  \\\n0       Pns2l4eNsfO8kk83dixA6A  Abby Rappoport, LAC, CMQ   \n1       mpf3x-BjTdTEA3yCZrAYPw             The UPS Store   \n2       tUFrWirKiKi_TAnsVWINQQ                    Target   \n3       MTSW4McQd7CbVtyjqoe9mw        St Honore Pastries   \n4       mWMc6_wTdE0EUBKIGXDVfA  Perkiomen Valley Brewery   \n...                        ...                       ...   \n150341  IUQopTMmYQG-qRtBk-8QnA              Binh's Nails   \n150342  c8GjPIOTGVmIemT7j5_SyQ      Wild Birds Unlimited   \n150343  _QAMST-NrQobXduilWEqSw         Claire's Boutique   \n150344  mtGm22y5c2UHNXDFAjaPNw  Cyclery & Fitness Center   \n150345  jV_XOycEzSlTx-65W906pg                   Sic Ink   \n\n                                address           city state postal_code  \\\n0                1616 Chapala St, Ste 2  Santa Barbara    CA       93101   \n1       87 Grasso Plaza Shopping Center         Affton    MO       63123   \n2                  5255 E Broadway Blvd         Tucson    AZ       85711   \n3                           935 Race St   Philadelphia    PA       19107   \n4                         101 Walnut St     Green Lane    PA       18054   \n...                                 ...            ...   ...         ...   \n150341                3388 Gateway Blvd       Edmonton    AB     T6J 5H2   \n150342               2813 Bransford Ave      Nashville    TN       37204   \n150343           6020 E 82nd St, Ste 46   Indianapolis    IN       46250   \n150344                     2472 Troy Rd   Edwardsville    IL       62025   \n150345            238 Apollo Beach Blvd   Apollo beach    FL       33572   \n\n         latitude   longitude  stars  review_count  is_open  \\\n0       34.426679 -119.711197    5.0           0.0        0   \n1       38.551126  -90.335695    3.0           8.0        1   \n2       32.223236 -110.880452    3.5          11.0        0   \n3       39.955505  -75.155564    4.0          37.0        1   \n4       40.338183  -75.471659    4.5          13.0        1   \n...           ...         ...    ...           ...      ...   \n150341  53.468419 -113.492054    3.0           5.0        1   \n150342  36.115118  -86.766925    4.0           4.0        1   \n150343  39.908707  -86.065088    3.5           5.0        1   \n150344  38.782351  -89.950558    4.0          12.0        1   \n150345  27.771002  -82.394910    4.5           8.0        1   \n\n                                               attributes  \\\n0                           {'ByAppointmentOnly': 'True'}   \n1                  {'BusinessAcceptsCreditCards': 'True'}   \n2       {'BikeParking': 'True', 'BusinessAcceptsCredit...   \n3       {'RestaurantsDelivery': 'False', 'OutdoorSeati...   \n4       {'BusinessAcceptsCreditCards': 'True', 'Wheelc...   \n...                                                   ...   \n150341  {'ByAppointmentOnly': 'False', 'RestaurantsPri...   \n150342  {'BusinessAcceptsCreditCards': 'True', 'Restau...   \n150343  {'RestaurantsPriceRange2': '1', 'BusinessAccep...   \n150344  {'BusinessParking': \"{'garage': False, 'street...   \n150345  {'WheelchairAccessible': 'True', 'BusinessAcce...   \n\n                                               categories  \\\n0       Doctors, Traditional Chinese Medicine, Naturop...   \n1       Shipping Centers, Local Services, Notaries, Ma...   \n2       Department Stores, Shopping, Fashion, Home & G...   \n3       Restaurants, Food, Bubble Tea, Coffee & Tea, B...   \n4                               Brewpubs, Breweries, Food   \n...                                                   ...   \n150341                         Nail Salons, Beauty & Spas   \n150342  Pets, Nurseries & Gardening, Pet Stores, Hobby...   \n150343  Shopping, Jewelry, Piercing, Toy Stores, Beaut...   \n150344  Fitness/Exercise Equipment, Eyewear & Optician...   \n150345  Beauty & Spas, Permanent Makeup, Piercing, Tattoo   \n\n                                                    hours  \n0                                                     NaN  \n1       {'Monday': '0:0-0:0', 'Tuesday': '8:0-18:30', ...  \n2       {'Monday': '8:0-22:0', 'Tuesday': '8:0-22:0', ...  \n3       {'Monday': '7:0-20:0', 'Tuesday': '7:0-20:0', ...  \n4       {'Wednesday': '14:0-22:0', 'Thursday': '16:0-2...  \n...                                                   ...  \n150341  {'Monday': '10:0-19:30', 'Tuesday': '10:0-19:3...  \n150342  {'Monday': '9:30-17:30', 'Tuesday': '9:30-17:3...  \n150343                                                NaN  \n150344  {'Monday': '9:0-20:0', 'Tuesday': '9:0-20:0', ...  \n150345  {'Tuesday': '12:0-19:0', 'Wednesday': '12:0-19...  \n\n[150346 rows x 14 columns]",
      "text/html": "<div>\n<style scoped>\n    .dataframe tbody tr th:only-of-type {\n        vertical-align: middle;\n    }\n\n    .dataframe tbody tr th {\n        vertical-align: top;\n    }\n\n    .dataframe thead th {\n        text-align: right;\n    }\n</style>\n<table border=\"1\" class=\"dataframe\">\n  <thead>\n    <tr style=\"text-align: right;\">\n      <th></th>\n      <th>business_id</th>\n      <th>name</th>\n      <th>address</th>\n      <th>city</th>\n      <th>state</th>\n      <th>postal_code</th>\n      <th>latitude</th>\n      <th>longitude</th>\n      <th>stars</th>\n      <th>review_count</th>\n      <th>is_open</th>\n      <th>attributes</th>\n      <th>categories</th>\n      <th>hours</th>\n    </tr>\n  </thead>\n  <tbody>\n    <tr>\n      <th>0</th>\n      <td>Pns2l4eNsfO8kk83dixA6A</td>\n      <td>Abby Rappoport, LAC, CMQ</td>\n      <td>1616 Chapala St, Ste 2</td>\n      <td>Santa Barbara</td>\n      <td>CA</td>\n      <td>93101</td>\n      <td>34.426679</td>\n      <td>-119.711197</td>\n      <td>5.0</td>\n      <td>0.0</td>\n      <td>0</td>\n      <td>{'ByAppointmentOnly': 'True'}</td>\n      <td>Doctors, Traditional Chinese Medicine, Naturop...</td>\n      <td>NaN</td>\n    </tr>\n    <tr>\n      <th>1</th>\n      <td>mpf3x-BjTdTEA3yCZrAYPw</td>\n      <td>The UPS Store</td>\n      <td>87 Grasso Plaza Shopping Center</td>\n      <td>Affton</td>\n      <td>MO</td>\n      <td>63123</td>\n      <td>38.551126</td>\n      <td>-90.335695</td>\n      <td>3.0</td>\n      <td>8.0</td>\n      <td>1</td>\n      <td>{'BusinessAcceptsCreditCards': 'True'}</td>\n      <td>Shipping Centers, Local Services, Notaries, Ma...</td>\n      <td>{'Monday': '0:0-0:0', 'Tuesday': '8:0-18:30', ...</td>\n    </tr>\n    <tr>\n      <th>2</th>\n      <td>tUFrWirKiKi_TAnsVWINQQ</td>\n      <td>Target</td>\n      <td>5255 E Broadway Blvd</td>\n      <td>Tucson</td>\n      <td>AZ</td>\n      <td>85711</td>\n      <td>32.223236</td>\n      <td>-110.880452</td>\n      <td>3.5</td>\n      <td>11.0</td>\n      <td>0</td>\n      <td>{'BikeParking': 'True', 'BusinessAcceptsCredit...</td>\n      <td>Department Stores, Shopping, Fashion, Home &amp; G...</td>\n      <td>{'Monday': '8:0-22:0', 'Tuesday': '8:0-22:0', ...</td>\n    </tr>\n    <tr>\n      <th>3</th>\n      <td>MTSW4McQd7CbVtyjqoe9mw</td>\n      <td>St Honore Pastries</td>\n      <td>935 Race St</td>\n      <td>Philadelphia</td>\n      <td>PA</td>\n      <td>19107</td>\n      <td>39.955505</td>\n      <td>-75.155564</td>\n      <td>4.0</td>\n      <td>37.0</td>\n      <td>1</td>\n      <td>{'RestaurantsDelivery': 'False', 'OutdoorSeati...</td>\n      <td>Restaurants, Food, Bubble Tea, Coffee &amp; Tea, B...</td>\n      <td>{'Monday': '7:0-20:0', 'Tuesday': '7:0-20:0', ...</td>\n    </tr>\n    <tr>\n      <th>4</th>\n      <td>mWMc6_wTdE0EUBKIGXDVfA</td>\n      <td>Perkiomen Valley Brewery</td>\n      <td>101 Walnut St</td>\n      <td>Green Lane</td>\n      <td>PA</td>\n      <td>18054</td>\n      <td>40.338183</td>\n      <td>-75.471659</td>\n      <td>4.5</td>\n      <td>13.0</td>\n      <td>1</td>\n      <td>{'BusinessAcceptsCreditCards': 'True', 'Wheelc...</td>\n      <td>Brewpubs, Breweries, Food</td>\n      <td>{'Wednesday': '14:0-22:0', 'Thursday': '16:0-2...</td>\n    </tr>\n    <tr>\n      <th>...</th>\n      <td>...</td>\n      <td>...</td>\n      <td>...</td>\n      <td>...</td>\n      <td>...</td>\n      <td>...</td>\n      <td>...</td>\n      <td>...</td>\n      <td>...</td>\n      <td>...</td>\n      <td>...</td>\n      <td>...</td>\n      <td>...</td>\n      <td>...</td>\n    </tr>\n    <tr>\n      <th>150341</th>\n      <td>IUQopTMmYQG-qRtBk-8QnA</td>\n      <td>Binh's Nails</td>\n      <td>3388 Gateway Blvd</td>\n      <td>Edmonton</td>\n      <td>AB</td>\n      <td>T6J 5H2</td>\n      <td>53.468419</td>\n      <td>-113.492054</td>\n      <td>3.0</td>\n      <td>5.0</td>\n      <td>1</td>\n      <td>{'ByAppointmentOnly': 'False', 'RestaurantsPri...</td>\n      <td>Nail Salons, Beauty &amp; Spas</td>\n      <td>{'Monday': '10:0-19:30', 'Tuesday': '10:0-19:3...</td>\n    </tr>\n    <tr>\n      <th>150342</th>\n      <td>c8GjPIOTGVmIemT7j5_SyQ</td>\n      <td>Wild Birds Unlimited</td>\n      <td>2813 Bransford Ave</td>\n      <td>Nashville</td>\n      <td>TN</td>\n      <td>37204</td>\n      <td>36.115118</td>\n      <td>-86.766925</td>\n      <td>4.0</td>\n      <td>4.0</td>\n      <td>1</td>\n      <td>{'BusinessAcceptsCreditCards': 'True', 'Restau...</td>\n      <td>Pets, Nurseries &amp; Gardening, Pet Stores, Hobby...</td>\n      <td>{'Monday': '9:30-17:30', 'Tuesday': '9:30-17:3...</td>\n    </tr>\n    <tr>\n      <th>150343</th>\n      <td>_QAMST-NrQobXduilWEqSw</td>\n      <td>Claire's Boutique</td>\n      <td>6020 E 82nd St, Ste 46</td>\n      <td>Indianapolis</td>\n      <td>IN</td>\n      <td>46250</td>\n      <td>39.908707</td>\n      <td>-86.065088</td>\n      <td>3.5</td>\n      <td>5.0</td>\n      <td>1</td>\n      <td>{'RestaurantsPriceRange2': '1', 'BusinessAccep...</td>\n      <td>Shopping, Jewelry, Piercing, Toy Stores, Beaut...</td>\n      <td>NaN</td>\n    </tr>\n    <tr>\n      <th>150344</th>\n      <td>mtGm22y5c2UHNXDFAjaPNw</td>\n      <td>Cyclery &amp; Fitness Center</td>\n      <td>2472 Troy Rd</td>\n      <td>Edwardsville</td>\n      <td>IL</td>\n      <td>62025</td>\n      <td>38.782351</td>\n      <td>-89.950558</td>\n      <td>4.0</td>\n      <td>12.0</td>\n      <td>1</td>\n      <td>{'BusinessParking': \"{'garage': False, 'street...</td>\n      <td>Fitness/Exercise Equipment, Eyewear &amp; Optician...</td>\n      <td>{'Monday': '9:0-20:0', 'Tuesday': '9:0-20:0', ...</td>\n    </tr>\n    <tr>\n      <th>150345</th>\n      <td>jV_XOycEzSlTx-65W906pg</td>\n      <td>Sic Ink</td>\n      <td>238 Apollo Beach Blvd</td>\n      <td>Apollo beach</td>\n      <td>FL</td>\n      <td>33572</td>\n      <td>27.771002</td>\n      <td>-82.394910</td>\n      <td>4.5</td>\n      <td>8.0</td>\n      <td>1</td>\n      <td>{'WheelchairAccessible': 'True', 'BusinessAcce...</td>\n      <td>Beauty &amp; Spas, Permanent Makeup, Piercing, Tattoo</td>\n      <td>{'Tuesday': '12:0-19:0', 'Wednesday': '12:0-19...</td>\n    </tr>\n  </tbody>\n</table>\n<p>150346 rows × 14 columns</p>\n</div>"
     },
     "execution_count": 84,
     "metadata": {},
     "output_type": "execute_result"
    }
   ],
   "source": [
    "import pandas as pd\n",
    "import seaborn as sns\n",
    "\n",
    "dataset_path = 'dataset'\n",
    "bsns_data = pd.read_csv(dataset_path + '/business.csv')\n",
    "bsns_data"
   ],
   "metadata": {
    "collapsed": false,
    "pycharm": {
     "name": "#%%\n"
    }
   }
  },
  {
   "cell_type": "code",
   "execution_count": 85,
   "outputs": [
    {
     "data": {
      "text/plain": "       state                      name  \\\n1         MO             The UPS Store   \n2         AZ                    Target   \n3         PA        St Honore Pastries   \n4         PA  Perkiomen Valley Brewery   \n5         TN            Sonic Drive-In   \n...      ...                       ...   \n150340    AB     West Side Kebab House   \n150341    AB              Binh's Nails   \n150342    TN      Wild Birds Unlimited   \n150344    IL  Cyclery & Fitness Center   \n150345    FL                   Sic Ink   \n\n                                                    hours  \n1       {'Monday': '0:0-0:0', 'Tuesday': '8:0-18:30', ...  \n2       {'Monday': '8:0-22:0', 'Tuesday': '8:0-22:0', ...  \n3       {'Monday': '7:0-20:0', 'Tuesday': '7:0-20:0', ...  \n4       {'Wednesday': '14:0-22:0', 'Thursday': '16:0-2...  \n5       {'Monday': '0:0-0:0', 'Tuesday': '6:0-22:0', '...  \n...                                                   ...  \n150340  {'Monday': '11:0-22:0', 'Tuesday': '11:0-22:0'...  \n150341  {'Monday': '10:0-19:30', 'Tuesday': '10:0-19:3...  \n150342  {'Monday': '9:30-17:30', 'Tuesday': '9:30-17:3...  \n150344  {'Monday': '9:0-20:0', 'Tuesday': '9:0-20:0', ...  \n150345  {'Tuesday': '12:0-19:0', 'Wednesday': '12:0-19...  \n\n[127123 rows x 3 columns]",
      "text/html": "<div>\n<style scoped>\n    .dataframe tbody tr th:only-of-type {\n        vertical-align: middle;\n    }\n\n    .dataframe tbody tr th {\n        vertical-align: top;\n    }\n\n    .dataframe thead th {\n        text-align: right;\n    }\n</style>\n<table border=\"1\" class=\"dataframe\">\n  <thead>\n    <tr style=\"text-align: right;\">\n      <th></th>\n      <th>state</th>\n      <th>name</th>\n      <th>hours</th>\n    </tr>\n  </thead>\n  <tbody>\n    <tr>\n      <th>1</th>\n      <td>MO</td>\n      <td>The UPS Store</td>\n      <td>{'Monday': '0:0-0:0', 'Tuesday': '8:0-18:30', ...</td>\n    </tr>\n    <tr>\n      <th>2</th>\n      <td>AZ</td>\n      <td>Target</td>\n      <td>{'Monday': '8:0-22:0', 'Tuesday': '8:0-22:0', ...</td>\n    </tr>\n    <tr>\n      <th>3</th>\n      <td>PA</td>\n      <td>St Honore Pastries</td>\n      <td>{'Monday': '7:0-20:0', 'Tuesday': '7:0-20:0', ...</td>\n    </tr>\n    <tr>\n      <th>4</th>\n      <td>PA</td>\n      <td>Perkiomen Valley Brewery</td>\n      <td>{'Wednesday': '14:0-22:0', 'Thursday': '16:0-2...</td>\n    </tr>\n    <tr>\n      <th>5</th>\n      <td>TN</td>\n      <td>Sonic Drive-In</td>\n      <td>{'Monday': '0:0-0:0', 'Tuesday': '6:0-22:0', '...</td>\n    </tr>\n    <tr>\n      <th>...</th>\n      <td>...</td>\n      <td>...</td>\n      <td>...</td>\n    </tr>\n    <tr>\n      <th>150340</th>\n      <td>AB</td>\n      <td>West Side Kebab House</td>\n      <td>{'Monday': '11:0-22:0', 'Tuesday': '11:0-22:0'...</td>\n    </tr>\n    <tr>\n      <th>150341</th>\n      <td>AB</td>\n      <td>Binh's Nails</td>\n      <td>{'Monday': '10:0-19:30', 'Tuesday': '10:0-19:3...</td>\n    </tr>\n    <tr>\n      <th>150342</th>\n      <td>TN</td>\n      <td>Wild Birds Unlimited</td>\n      <td>{'Monday': '9:30-17:30', 'Tuesday': '9:30-17:3...</td>\n    </tr>\n    <tr>\n      <th>150344</th>\n      <td>IL</td>\n      <td>Cyclery &amp; Fitness Center</td>\n      <td>{'Monday': '9:0-20:0', 'Tuesday': '9:0-20:0', ...</td>\n    </tr>\n    <tr>\n      <th>150345</th>\n      <td>FL</td>\n      <td>Sic Ink</td>\n      <td>{'Tuesday': '12:0-19:0', 'Wednesday': '12:0-19...</td>\n    </tr>\n  </tbody>\n</table>\n<p>127123 rows × 3 columns</p>\n</div>"
     },
     "execution_count": 85,
     "metadata": {},
     "output_type": "execute_result"
    }
   ],
   "source": [
    "\n",
    "df = pd.DataFrame()\n",
    "bsns_data = bsns_data[bsns_data['hours'].notna()]\n",
    "df['state'] = bsns_data['state']\n",
    "df['name'] = bsns_data['name']\n",
    "df['state'] = bsns_data['state']\n",
    "df['hours'] = bsns_data['hours']\n",
    "df"
   ],
   "metadata": {
    "collapsed": false,
    "pycharm": {
     "name": "#%%\n"
    }
   }
  },
  {
   "cell_type": "code",
   "execution_count": 109,
   "outputs": [
    {
     "data": {
      "text/plain": "         name       Lunes      Martes   Miercoles      Jueves    Viernes  \\\n0     Wendy's    10:0-0:0    10:0-0:0    10:0-0:0    10:0-0:0   10:0-1:0   \n1  McDonald's     0:0-0:0     0:0-0:0     0:0-0:0     0:0-0:0    0:0-0:0   \n2   Starbucks   5:30-21:0   5:30-21:0   5:30-21:0   5:30-21:0  5:30-21:0   \n3         KFC  10:30-23:0  10:30-23:0  10:30-23:0  10:30-23:0  10:30-0:0   \n\n      Sabado     Domingo  \n0   10:0-1:0    10:0-0:0  \n1    0:0-0:0     0:0-0:0  \n2  6:30-21:0   6:30-21:0  \n3  10:30-0:0  10:30-22:0  ",
      "text/html": "<div>\n<style scoped>\n    .dataframe tbody tr th:only-of-type {\n        vertical-align: middle;\n    }\n\n    .dataframe tbody tr th {\n        vertical-align: top;\n    }\n\n    .dataframe thead th {\n        text-align: right;\n    }\n</style>\n<table border=\"1\" class=\"dataframe\">\n  <thead>\n    <tr style=\"text-align: right;\">\n      <th></th>\n      <th>name</th>\n      <th>Lunes</th>\n      <th>Martes</th>\n      <th>Miercoles</th>\n      <th>Jueves</th>\n      <th>Viernes</th>\n      <th>Sabado</th>\n      <th>Domingo</th>\n    </tr>\n  </thead>\n  <tbody>\n    <tr>\n      <th>0</th>\n      <td>Wendy's</td>\n      <td>10:0-0:0</td>\n      <td>10:0-0:0</td>\n      <td>10:0-0:0</td>\n      <td>10:0-0:0</td>\n      <td>10:0-1:0</td>\n      <td>10:0-1:0</td>\n      <td>10:0-0:0</td>\n    </tr>\n    <tr>\n      <th>1</th>\n      <td>McDonald's</td>\n      <td>0:0-0:0</td>\n      <td>0:0-0:0</td>\n      <td>0:0-0:0</td>\n      <td>0:0-0:0</td>\n      <td>0:0-0:0</td>\n      <td>0:0-0:0</td>\n      <td>0:0-0:0</td>\n    </tr>\n    <tr>\n      <th>2</th>\n      <td>Starbucks</td>\n      <td>5:30-21:0</td>\n      <td>5:30-21:0</td>\n      <td>5:30-21:0</td>\n      <td>5:30-21:0</td>\n      <td>5:30-21:0</td>\n      <td>6:30-21:0</td>\n      <td>6:30-21:0</td>\n    </tr>\n    <tr>\n      <th>3</th>\n      <td>KFC</td>\n      <td>10:30-23:0</td>\n      <td>10:30-23:0</td>\n      <td>10:30-23:0</td>\n      <td>10:30-23:0</td>\n      <td>10:30-0:0</td>\n      <td>10:30-0:0</td>\n      <td>10:30-22:0</td>\n    </tr>\n  </tbody>\n</table>\n</div>"
     },
     "execution_count": 109,
     "metadata": {},
     "output_type": "execute_result"
    }
   ],
   "source": [
    "import json\n",
    "\n",
    "WEEK_DAYS=[['Monday', 'Lunes'], ['Tuesday', 'Martes'], ['Wednesday', 'Miercoles'], ['Thursday', 'Jueves'], ['Friday','Viernes'], ['Saturday','Sabado'], ['Sunday','Domingo'] ]\n",
    "\n",
    "BUSINESS = ['Wendy\\'s', 'McDonald\\'s', 'Starbucks', 'KFC']\n",
    "\n",
    "df2 = pd.DataFrame()\n",
    "df2['name'] = df['name']\n",
    "df2['hours'] = df['hours'].map(lambda x: x.replace('\\'', '\\\"'))\n",
    "df2['hours'] = df2['hours'].map(lambda x: json.loads(x))\n",
    "\n",
    "for day in WEEK_DAYS:\n",
    "    df2[day[1]] = df2['hours'].map(lambda x: x.get(day[0]))\n",
    "del df2['hours']\n",
    "df2 = df2[df['name'].isin(BUSINESS)]\n",
    "df3 = pd.DataFrame()\n",
    "for b in BUSINESS:\n",
    "    row = df2.loc[df2[df2.name==b].first_valid_index()].to_frame().T\n",
    "    df3 = pd.concat([df3, row], ignore_index=True, axis=0)\n",
    "\n",
    "type(df2.loc[df2[df2.name=='Starbucks'].first_valid_index()])\n",
    "df3 # el objetivo era armar un heat plot con los horarios mas frecuentes de respuesta por día de semana (y que el rango de colores fuera de más claro a más oscuro conforme se hace mas tarde en el dia)\n"
   ],
   "metadata": {
    "collapsed": false,
    "pycharm": {
     "name": "#%%\n"
    }
   }
  },
  {
   "cell_type": "code",
   "execution_count": 76,
   "outputs": [
    {
     "ename": "ValueError",
     "evalue": "Could not interpret input 'day'",
     "output_type": "error",
     "traceback": [
      "\u001B[0;31m---------------------------------------------------------------------------\u001B[0m",
      "\u001B[0;31mValueError\u001B[0m                                Traceback (most recent call last)",
      "Input \u001B[0;32mIn [76]\u001B[0m, in \u001B[0;36m<cell line: 1>\u001B[0;34m()\u001B[0m\n\u001B[0;32m----> 1\u001B[0m ax \u001B[38;5;241m=\u001B[39m \u001B[43msns\u001B[49m\u001B[38;5;241;43m.\u001B[39;49m\u001B[43mviolinplot\u001B[49m\u001B[43m(\u001B[49m\u001B[43mx\u001B[49m\u001B[38;5;241;43m=\u001B[39;49m\u001B[38;5;124;43m\"\u001B[39;49m\u001B[38;5;124;43mday\u001B[39;49m\u001B[38;5;124;43m\"\u001B[39;49m\u001B[43m,\u001B[49m\u001B[43m \u001B[49m\u001B[43my\u001B[49m\u001B[38;5;241;43m=\u001B[39;49m\u001B[38;5;124;43m\"\u001B[39;49m\u001B[38;5;124;43mtotal_bill\u001B[39;49m\u001B[38;5;124;43m\"\u001B[39;49m\u001B[43m,\u001B[49m\u001B[43m \u001B[49m\u001B[43mdata\u001B[49m\u001B[38;5;241;43m=\u001B[39;49m\u001B[43mdf2\u001B[49m\u001B[43m)\u001B[49m\n",
      "File \u001B[0;32m~/PycharmProjects/fiuba/orga_datos/tp1_orga/venv/lib/python3.9/site-packages/seaborn/_decorators.py:46\u001B[0m, in \u001B[0;36m_deprecate_positional_args.<locals>.inner_f\u001B[0;34m(*args, **kwargs)\u001B[0m\n\u001B[1;32m     36\u001B[0m     warnings\u001B[38;5;241m.\u001B[39mwarn(\n\u001B[1;32m     37\u001B[0m         \u001B[38;5;124m\"\u001B[39m\u001B[38;5;124mPass the following variable\u001B[39m\u001B[38;5;132;01m{}\u001B[39;00m\u001B[38;5;124m as \u001B[39m\u001B[38;5;132;01m{}\u001B[39;00m\u001B[38;5;124mkeyword arg\u001B[39m\u001B[38;5;132;01m{}\u001B[39;00m\u001B[38;5;124m: \u001B[39m\u001B[38;5;132;01m{}\u001B[39;00m\u001B[38;5;124m. \u001B[39m\u001B[38;5;124m\"\u001B[39m\n\u001B[1;32m     38\u001B[0m         \u001B[38;5;124m\"\u001B[39m\u001B[38;5;124mFrom version 0.12, the only valid positional argument \u001B[39m\u001B[38;5;124m\"\u001B[39m\n\u001B[0;32m   (...)\u001B[0m\n\u001B[1;32m     43\u001B[0m         \u001B[38;5;167;01mFutureWarning\u001B[39;00m\n\u001B[1;32m     44\u001B[0m     )\n\u001B[1;32m     45\u001B[0m kwargs\u001B[38;5;241m.\u001B[39mupdate({k: arg \u001B[38;5;28;01mfor\u001B[39;00m k, arg \u001B[38;5;129;01min\u001B[39;00m \u001B[38;5;28mzip\u001B[39m(sig\u001B[38;5;241m.\u001B[39mparameters, args)})\n\u001B[0;32m---> 46\u001B[0m \u001B[38;5;28;01mreturn\u001B[39;00m \u001B[43mf\u001B[49m\u001B[43m(\u001B[49m\u001B[38;5;241;43m*\u001B[39;49m\u001B[38;5;241;43m*\u001B[39;49m\u001B[43mkwargs\u001B[49m\u001B[43m)\u001B[49m\n",
      "File \u001B[0;32m~/PycharmProjects/fiuba/orga_datos/tp1_orga/venv/lib/python3.9/site-packages/seaborn/categorical.py:2400\u001B[0m, in \u001B[0;36mviolinplot\u001B[0;34m(x, y, hue, data, order, hue_order, bw, cut, scale, scale_hue, gridsize, width, inner, split, dodge, orient, linewidth, color, palette, saturation, ax, **kwargs)\u001B[0m\n\u001B[1;32m   2388\u001B[0m \u001B[38;5;129m@_deprecate_positional_args\u001B[39m\n\u001B[1;32m   2389\u001B[0m \u001B[38;5;28;01mdef\u001B[39;00m \u001B[38;5;21mviolinplot\u001B[39m(\n\u001B[1;32m   2390\u001B[0m     \u001B[38;5;241m*\u001B[39m,\n\u001B[0;32m   (...)\u001B[0m\n\u001B[1;32m   2397\u001B[0m     ax\u001B[38;5;241m=\u001B[39m\u001B[38;5;28;01mNone\u001B[39;00m, \u001B[38;5;241m*\u001B[39m\u001B[38;5;241m*\u001B[39mkwargs,\n\u001B[1;32m   2398\u001B[0m ):\n\u001B[0;32m-> 2400\u001B[0m     plotter \u001B[38;5;241m=\u001B[39m \u001B[43m_ViolinPlotter\u001B[49m\u001B[43m(\u001B[49m\u001B[43mx\u001B[49m\u001B[43m,\u001B[49m\u001B[43m \u001B[49m\u001B[43my\u001B[49m\u001B[43m,\u001B[49m\u001B[43m \u001B[49m\u001B[43mhue\u001B[49m\u001B[43m,\u001B[49m\u001B[43m \u001B[49m\u001B[43mdata\u001B[49m\u001B[43m,\u001B[49m\u001B[43m \u001B[49m\u001B[43morder\u001B[49m\u001B[43m,\u001B[49m\u001B[43m \u001B[49m\u001B[43mhue_order\u001B[49m\u001B[43m,\u001B[49m\n\u001B[1;32m   2401\u001B[0m \u001B[43m                             \u001B[49m\u001B[43mbw\u001B[49m\u001B[43m,\u001B[49m\u001B[43m \u001B[49m\u001B[43mcut\u001B[49m\u001B[43m,\u001B[49m\u001B[43m \u001B[49m\u001B[43mscale\u001B[49m\u001B[43m,\u001B[49m\u001B[43m \u001B[49m\u001B[43mscale_hue\u001B[49m\u001B[43m,\u001B[49m\u001B[43m \u001B[49m\u001B[43mgridsize\u001B[49m\u001B[43m,\u001B[49m\n\u001B[1;32m   2402\u001B[0m \u001B[43m                             \u001B[49m\u001B[43mwidth\u001B[49m\u001B[43m,\u001B[49m\u001B[43m \u001B[49m\u001B[43minner\u001B[49m\u001B[43m,\u001B[49m\u001B[43m \u001B[49m\u001B[43msplit\u001B[49m\u001B[43m,\u001B[49m\u001B[43m \u001B[49m\u001B[43mdodge\u001B[49m\u001B[43m,\u001B[49m\u001B[43m \u001B[49m\u001B[43morient\u001B[49m\u001B[43m,\u001B[49m\u001B[43m \u001B[49m\u001B[43mlinewidth\u001B[49m\u001B[43m,\u001B[49m\n\u001B[1;32m   2403\u001B[0m \u001B[43m                             \u001B[49m\u001B[43mcolor\u001B[49m\u001B[43m,\u001B[49m\u001B[43m \u001B[49m\u001B[43mpalette\u001B[49m\u001B[43m,\u001B[49m\u001B[43m \u001B[49m\u001B[43msaturation\u001B[49m\u001B[43m)\u001B[49m\n\u001B[1;32m   2405\u001B[0m     \u001B[38;5;28;01mif\u001B[39;00m ax \u001B[38;5;129;01mis\u001B[39;00m \u001B[38;5;28;01mNone\u001B[39;00m:\n\u001B[1;32m   2406\u001B[0m         ax \u001B[38;5;241m=\u001B[39m plt\u001B[38;5;241m.\u001B[39mgca()\n",
      "File \u001B[0;32m~/PycharmProjects/fiuba/orga_datos/tp1_orga/venv/lib/python3.9/site-packages/seaborn/categorical.py:522\u001B[0m, in \u001B[0;36m_ViolinPlotter.__init__\u001B[0;34m(self, x, y, hue, data, order, hue_order, bw, cut, scale, scale_hue, gridsize, width, inner, split, dodge, orient, linewidth, color, palette, saturation)\u001B[0m\n\u001B[1;32m    517\u001B[0m \u001B[38;5;28;01mdef\u001B[39;00m \u001B[38;5;21m__init__\u001B[39m(\u001B[38;5;28mself\u001B[39m, x, y, hue, data, order, hue_order,\n\u001B[1;32m    518\u001B[0m              bw, cut, scale, scale_hue, gridsize,\n\u001B[1;32m    519\u001B[0m              width, inner, split, dodge, orient, linewidth,\n\u001B[1;32m    520\u001B[0m              color, palette, saturation):\n\u001B[0;32m--> 522\u001B[0m     \u001B[38;5;28;43mself\u001B[39;49m\u001B[38;5;241;43m.\u001B[39;49m\u001B[43mestablish_variables\u001B[49m\u001B[43m(\u001B[49m\u001B[43mx\u001B[49m\u001B[43m,\u001B[49m\u001B[43m \u001B[49m\u001B[43my\u001B[49m\u001B[43m,\u001B[49m\u001B[43m \u001B[49m\u001B[43mhue\u001B[49m\u001B[43m,\u001B[49m\u001B[43m \u001B[49m\u001B[43mdata\u001B[49m\u001B[43m,\u001B[49m\u001B[43m \u001B[49m\u001B[43morient\u001B[49m\u001B[43m,\u001B[49m\u001B[43m \u001B[49m\u001B[43morder\u001B[49m\u001B[43m,\u001B[49m\u001B[43m \u001B[49m\u001B[43mhue_order\u001B[49m\u001B[43m)\u001B[49m\n\u001B[1;32m    523\u001B[0m     \u001B[38;5;28mself\u001B[39m\u001B[38;5;241m.\u001B[39mestablish_colors(color, palette, saturation)\n\u001B[1;32m    524\u001B[0m     \u001B[38;5;28mself\u001B[39m\u001B[38;5;241m.\u001B[39mestimate_densities(bw, cut, scale, scale_hue, gridsize)\n",
      "File \u001B[0;32m~/PycharmProjects/fiuba/orga_datos/tp1_orga/venv/lib/python3.9/site-packages/seaborn/categorical.py:153\u001B[0m, in \u001B[0;36m_CategoricalPlotter.establish_variables\u001B[0;34m(self, x, y, hue, data, orient, order, hue_order, units)\u001B[0m\n\u001B[1;32m    151\u001B[0m     \u001B[38;5;28;01mif\u001B[39;00m \u001B[38;5;28misinstance\u001B[39m(var, \u001B[38;5;28mstr\u001B[39m):\n\u001B[1;32m    152\u001B[0m         err \u001B[38;5;241m=\u001B[39m \u001B[38;5;124m\"\u001B[39m\u001B[38;5;124mCould not interpret input \u001B[39m\u001B[38;5;124m'\u001B[39m\u001B[38;5;132;01m{}\u001B[39;00m\u001B[38;5;124m'\u001B[39m\u001B[38;5;124m\"\u001B[39m\u001B[38;5;241m.\u001B[39mformat(var)\n\u001B[0;32m--> 153\u001B[0m         \u001B[38;5;28;01mraise\u001B[39;00m \u001B[38;5;167;01mValueError\u001B[39;00m(err)\n\u001B[1;32m    155\u001B[0m \u001B[38;5;66;03m# Figure out the plotting orientation\u001B[39;00m\n\u001B[1;32m    156\u001B[0m orient \u001B[38;5;241m=\u001B[39m infer_orient(\n\u001B[1;32m    157\u001B[0m     x, y, orient, require_numeric\u001B[38;5;241m=\u001B[39m\u001B[38;5;28mself\u001B[39m\u001B[38;5;241m.\u001B[39mrequire_numeric\n\u001B[1;32m    158\u001B[0m )\n",
      "\u001B[0;31mValueError\u001B[0m: Could not interpret input 'day'"
     ]
    }
   ],
   "source": [],
   "metadata": {
    "collapsed": false,
    "pycharm": {
     "name": "#%%\n"
    }
   }
  },
  {
   "cell_type": "code",
   "execution_count": null,
   "outputs": [],
   "source": [],
   "metadata": {
    "collapsed": false,
    "pycharm": {
     "name": "#%%\n"
    }
   }
  }
 ],
 "metadata": {
  "kernelspec": {
   "display_name": "Python 3",
   "language": "python",
   "name": "python3"
  },
  "language_info": {
   "codemirror_mode": {
    "name": "ipython",
    "version": 2
   },
   "file_extension": ".py",
   "mimetype": "text/x-python",
   "name": "python",
   "nbconvert_exporter": "python",
   "pygments_lexer": "ipython2",
   "version": "2.7.6"
  }
 },
 "nbformat": 4,
 "nbformat_minor": 0
}