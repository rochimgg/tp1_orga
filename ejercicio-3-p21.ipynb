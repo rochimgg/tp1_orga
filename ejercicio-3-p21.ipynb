{
 "cells": [
  {
   "cell_type": "code",
   "execution_count": 1,
   "outputs": [],
   "source": [
    "## Queremos saber cuáles son los negocios más sexys, para esto vamos a ver cuáles son los 3 negocios con más tips que contengan el texto “sexy”"
   ],
   "metadata": {
    "collapsed": false,
    "pycharm": {
     "name": "#%%\n"
    }
   }
  },
  {
   "cell_type": "code",
   "execution_count": 87,
   "outputs": [
    {
     "data": {
      "text/plain": "                       user_id             business_id  \\\n0       AGNUgVwnZUey3gcPCJ76iw  3uLgwr0qeCNMjKenHJwPGQ   \n1       NBN4MgHP9D3cw--SnauTkA  QoezRbYQncpRqyrLH6Iqjg   \n2       -copOvldyKh1qr-vzkDEvw  MYoRNLb5chwjQe3c_k37Gg   \n3       FjMQVZjSqY8syIO-53KFKw  hV-bABTK-glh5wj31ps_Jw   \n4       ld0AperBXk1h6UbqmM80zw  _uN0OudeJ3Zl_tf6nxg5ww   \n...                        ...                     ...   \n908910  eYodOTF8pkqKPzHkcxZs-Q  3lHTewuKFt5IImbXJoFeDQ   \n908911  1uxtQAuJ2T5Xwa_wp7kUnA  OaGf0Dp56ARhQwIDT90w_g   \n908912  v48Spe6WEpqehsF2xQADpg  hYnMeAO77RGyTtIzUSKYzQ   \n908913  ckqKGM2hl7I9Chp5IpAhkw  s2eyoTuJrcP7I_XyjdhUHQ   \n908914  4tF1CWdMxvvwpUIgGsDygA  _cb1Vg1NIWry8UA0jyuXnQ   \n\n                                                     text  \\\n0                          avengers time with the ladies.   \n1       they have lots of good deserts and tasty cuban...   \n2                  it's open even when you think it isn't   \n3                               very decent fried chicken   \n4                  appetizers.. platter special for lunch   \n...                                                   ...   \n908910              disappointed in one of your managers.   \n908911                            great food and service.   \n908912                                love their cubans!!   \n908913                            great pizza great price   \n908914                  food is good value but a bit hot!   \n\n                       date  compliment_count  \n0       2012-05-18 02:17:21                 0  \n1       2013-02-05 18:35:10                 0  \n2       2013-08-18 00:56:08                 0  \n3       2017-06-27 23:05:38                 0  \n4       2012-10-06 19:43:09                 0  \n...                     ...               ...  \n908910  2021-09-11 19:18:57                 0  \n908911  2021-10-30 11:54:36                 0  \n908912  2021-11-05 13:18:56                 0  \n908913  2021-11-20 16:11:44                 0  \n908914  2021-12-07 22:30:00                 0  \n\n[908910 rows x 5 columns]",
      "text/html": "<div>\n<style scoped>\n    .dataframe tbody tr th:only-of-type {\n        vertical-align: middle;\n    }\n\n    .dataframe tbody tr th {\n        vertical-align: top;\n    }\n\n    .dataframe thead th {\n        text-align: right;\n    }\n</style>\n<table border=\"1\" class=\"dataframe\">\n  <thead>\n    <tr style=\"text-align: right;\">\n      <th></th>\n      <th>user_id</th>\n      <th>business_id</th>\n      <th>text</th>\n      <th>date</th>\n      <th>compliment_count</th>\n    </tr>\n  </thead>\n  <tbody>\n    <tr>\n      <th>0</th>\n      <td>AGNUgVwnZUey3gcPCJ76iw</td>\n      <td>3uLgwr0qeCNMjKenHJwPGQ</td>\n      <td>avengers time with the ladies.</td>\n      <td>2012-05-18 02:17:21</td>\n      <td>0</td>\n    </tr>\n    <tr>\n      <th>1</th>\n      <td>NBN4MgHP9D3cw--SnauTkA</td>\n      <td>QoezRbYQncpRqyrLH6Iqjg</td>\n      <td>they have lots of good deserts and tasty cuban...</td>\n      <td>2013-02-05 18:35:10</td>\n      <td>0</td>\n    </tr>\n    <tr>\n      <th>2</th>\n      <td>-copOvldyKh1qr-vzkDEvw</td>\n      <td>MYoRNLb5chwjQe3c_k37Gg</td>\n      <td>it's open even when you think it isn't</td>\n      <td>2013-08-18 00:56:08</td>\n      <td>0</td>\n    </tr>\n    <tr>\n      <th>3</th>\n      <td>FjMQVZjSqY8syIO-53KFKw</td>\n      <td>hV-bABTK-glh5wj31ps_Jw</td>\n      <td>very decent fried chicken</td>\n      <td>2017-06-27 23:05:38</td>\n      <td>0</td>\n    </tr>\n    <tr>\n      <th>4</th>\n      <td>ld0AperBXk1h6UbqmM80zw</td>\n      <td>_uN0OudeJ3Zl_tf6nxg5ww</td>\n      <td>appetizers.. platter special for lunch</td>\n      <td>2012-10-06 19:43:09</td>\n      <td>0</td>\n    </tr>\n    <tr>\n      <th>...</th>\n      <td>...</td>\n      <td>...</td>\n      <td>...</td>\n      <td>...</td>\n      <td>...</td>\n    </tr>\n    <tr>\n      <th>908910</th>\n      <td>eYodOTF8pkqKPzHkcxZs-Q</td>\n      <td>3lHTewuKFt5IImbXJoFeDQ</td>\n      <td>disappointed in one of your managers.</td>\n      <td>2021-09-11 19:18:57</td>\n      <td>0</td>\n    </tr>\n    <tr>\n      <th>908911</th>\n      <td>1uxtQAuJ2T5Xwa_wp7kUnA</td>\n      <td>OaGf0Dp56ARhQwIDT90w_g</td>\n      <td>great food and service.</td>\n      <td>2021-10-30 11:54:36</td>\n      <td>0</td>\n    </tr>\n    <tr>\n      <th>908912</th>\n      <td>v48Spe6WEpqehsF2xQADpg</td>\n      <td>hYnMeAO77RGyTtIzUSKYzQ</td>\n      <td>love their cubans!!</td>\n      <td>2021-11-05 13:18:56</td>\n      <td>0</td>\n    </tr>\n    <tr>\n      <th>908913</th>\n      <td>ckqKGM2hl7I9Chp5IpAhkw</td>\n      <td>s2eyoTuJrcP7I_XyjdhUHQ</td>\n      <td>great pizza great price</td>\n      <td>2021-11-20 16:11:44</td>\n      <td>0</td>\n    </tr>\n    <tr>\n      <th>908914</th>\n      <td>4tF1CWdMxvvwpUIgGsDygA</td>\n      <td>_cb1Vg1NIWry8UA0jyuXnQ</td>\n      <td>food is good value but a bit hot!</td>\n      <td>2021-12-07 22:30:00</td>\n      <td>0</td>\n    </tr>\n  </tbody>\n</table>\n<p>908910 rows × 5 columns</p>\n</div>"
     },
     "execution_count": 87,
     "metadata": {},
     "output_type": "execute_result"
    }
   ],
   "source": [
    "import pandas as pd\n",
    "import re\n",
    "\n",
    "dataset_path = './dataset'\n",
    "tip_data = pd.read_csv(dataset_path + '/tip.csv')\n",
    "tip_data = tip_data[tip_data[\"text\"].notna()]\n",
    "tip_data[\"text\"] = tip_data[\"text\"].map(lambda x: x.strip().lower())\n",
    "tip_data"
   ],
   "metadata": {
    "collapsed": false,
    "pycharm": {
     "name": "#%%\n"
    }
   }
  },
  {
   "cell_type": "code",
   "execution_count": 88,
   "outputs": [
    {
     "name": "stdout",
     "output_type": "stream",
     "text": [
      "IxX6YczoeBpdt78AzDS4GQ    5\n",
      "X9e_btDPux6JGqqw8UF_Pg    4\n",
      "4xEJiEQERBvr2jAZQSeF2g    4\n",
      "Name: business_id, dtype: int64\n"
     ]
    },
    {
     "data": {
      "text/plain": "['IxX6YczoeBpdt78AzDS4GQ', 'X9e_btDPux6JGqqw8UF_Pg', '4xEJiEQERBvr2jAZQSeF2g']"
     },
     "execution_count": 88,
     "metadata": {},
     "output_type": "execute_result"
    }
   ],
   "source": [
    "reg = re.compile(r\"\\b(sexy)\\b\")\n",
    "tip_data2 = tip_data\n",
    "tip_data2 = tip_data2[tip_data2[\"text\"].notna()]\n",
    "tip_data2[\"text\"] = tip_data2[\"text\"].map(lambda x: bool(reg.search(x)))\n",
    "tip_data2 = tip_data2[tip_data2[\"text\"] == True]\n",
    "top_3_sexy = tip_data2['business_id'].value_counts()[:3]\n",
    "print(top_3_sexy)\n",
    "\n",
    "sexy_names = top_3_sexy.index.tolist()\n",
    "sexy_names"
   ],
   "metadata": {
    "collapsed": false,
    "pycharm": {
     "name": "#%%\n"
    }
   }
  },
  {
   "cell_type": "code",
   "execution_count": 89,
   "outputs": [
    {
     "data": {
      "text/plain": "                   business_id                                  name\n112465  IxX6YczoeBpdt78AzDS4GQ               The Butcher And Barkeep\n42661   X9e_btDPux6JGqqw8UF_Pg  Koizi Endless Hibachi & Sushi Eatery\n5800    4xEJiEQERBvr2jAZQSeF2g                            Mojo Tapas",
      "text/html": "<div>\n<style scoped>\n    .dataframe tbody tr th:only-of-type {\n        vertical-align: middle;\n    }\n\n    .dataframe tbody tr th {\n        vertical-align: top;\n    }\n\n    .dataframe thead th {\n        text-align: right;\n    }\n</style>\n<table border=\"1\" class=\"dataframe\">\n  <thead>\n    <tr style=\"text-align: right;\">\n      <th></th>\n      <th>business_id</th>\n      <th>name</th>\n    </tr>\n  </thead>\n  <tbody>\n    <tr>\n      <th>112465</th>\n      <td>IxX6YczoeBpdt78AzDS4GQ</td>\n      <td>The Butcher And Barkeep</td>\n    </tr>\n    <tr>\n      <th>42661</th>\n      <td>X9e_btDPux6JGqqw8UF_Pg</td>\n      <td>Koizi Endless Hibachi &amp; Sushi Eatery</td>\n    </tr>\n    <tr>\n      <th>5800</th>\n      <td>4xEJiEQERBvr2jAZQSeF2g</td>\n      <td>Mojo Tapas</td>\n    </tr>\n  </tbody>\n</table>\n</div>"
     },
     "execution_count": 89,
     "metadata": {},
     "output_type": "execute_result"
    }
   ],
   "source": [
    "dataset_path = './dataset'\n",
    "b_df = pd.read_csv(dataset_path + '/business.csv')\n",
    "id_name = pd.DataFrame()\n",
    "id_name['business_id'] = b_df['business_id']\n",
    "id_name['name'] = b_df['name']\n",
    "\n",
    "df = pd.DataFrame(columns=['business_id', 'name'])\n",
    "\n",
    "for i in sexy_names:\n",
    "    id_name['business_id']\n",
    "    row = id_name[id_name['business_id'] == i]\n",
    "    df = pd.concat([df, id_name[id_name['business_id'] == i]])\n",
    "\n",
    "df"
   ],
   "metadata": {
    "collapsed": false,
    "pycharm": {
     "name": "#%%\n"
    }
   }
  },
  {
   "cell_type": "code",
   "execution_count": null,
   "outputs": [],
   "source": [],
   "metadata": {
    "collapsed": false,
    "pycharm": {
     "name": "#%%\n"
    }
   }
  }
 ],
 "metadata": {
  "kernelspec": {
   "display_name": "Python 3",
   "language": "python",
   "name": "python3"
  },
  "language_info": {
   "codemirror_mode": {
    "name": "ipython",
    "version": 2
   },
   "file_extension": ".py",
   "mimetype": "text/x-python",
   "name": "python",
   "nbconvert_exporter": "python",
   "pygments_lexer": "ipython2",
   "version": "2.7.6"
  }
 },
 "nbformat": 4,
 "nbformat_minor": 0
}